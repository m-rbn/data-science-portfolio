{
 "cells": [
  {
   "cell_type": "markdown",
   "metadata": {},
   "source": [
    "# **RFM Analysis (Customer Segmentation)**\n",
    "\n",
    "*M. Ruben (June 2019)*\n",
    "***\n",
    "<div style=\"text-align: justify\">The objective of this notebook is to conduct customer segmentation using Recency-Frequency-Monetary (*RFM*) analysis. Customer segmentation divides a pool of customers into discrete customer segment who shares similar characteristic. *RFM* analysis divides groups of customers by focusing on three metrics: *Recency*, *Frequency* and *Monetary Value*. Based on these three metrics, markerters will be able to decide the most appropriate marketing strategy for a specific customer segment.</div>\n",
    "***\n",
    "**Acknowledgement**: The original dataset can be found in [this link](https://archive.ics.uci.edu/ml/datasets/Online%20Retail). \n",
    "***\n",
    "# Contents<a id = 'TOC'></a>\n",
    "- **[1. Modules](#1)** \n",
    "- **[2. Data Exploration](#2)**\n",
    "    * [**2.1** *General overview*](#2.1)\n",
    "    * [**2.2** *Data cleaning*](#2.2)\n",
    "    <br><br>  \n",
    "- **[3. Recency-Frequency-Monetary (RFM) Analysis](#3)** \n",
    "    * [**3.1** *Recency*](#3.1)\n",
    "    * [**3.2** *Frequency*](#3.2)\n",
    "    * [**3.3** *Monetary value*](#3.3)\n",
    "    * [**3.4** *R-F-M table*](#3.4)\n",
    "    * [**3.5** *R-F-M score*](#3.5)\n",
    "    <br><br>  \n",
    "- **[4. Key Segments](#4)**\n",
    "    * [**4.1** *Best Customers*](#4.1)\n",
    "    * [**4.2** *Loyal Customers*](#4.2)\n",
    "    * [**4.3** *Big Spenders*](#4.3)\n",
    "    * [**4.4** *Almost Lost*](#4.4)\n",
    "    * [**4.5** *Lost Customers*](#4.5)\n",
    "    * [**4.5** *Lost Cheap Customers*](#4.6)\n",
    "    <br><br>"
   ]
  },
  {
   "cell_type": "markdown",
   "metadata": {},
   "source": [
    "# 1. Modules <a id = '1'></a>"
   ]
  },
  {
   "cell_type": "code",
   "execution_count": 37,
   "metadata": {
    "ExecuteTime": {
     "end_time": "2019-06-29T09:09:14.731327Z",
     "start_time": "2019-06-29T09:09:14.715707Z"
    },
    "collapsed": true
   },
   "outputs": [],
   "source": [
    "import pandas as pd\n",
    "import numpy as np\n",
    "from datetime import timedelta"
   ]
  },
  {
   "cell_type": "markdown",
   "metadata": {
    "ExecuteTime": {
     "end_time": "2019-06-29T06:03:05.834580Z",
     "start_time": "2019-06-29T06:03:05.803986Z"
    }
   },
   "source": [
    "[Back to Table of Content](#TOC)"
   ]
  },
  {
   "cell_type": "markdown",
   "metadata": {},
   "source": [
    "# 2. Data Exploration <a id = '2'></a>"
   ]
  },
  {
   "cell_type": "markdown",
   "metadata": {},
   "source": [
    "***\n",
    "**2.1** *General overview*<a id = '2.1'></a>\n",
    "***\n",
    "This section shows a general overview of the data. The type of variables in the data are also explained."
   ]
  },
  {
   "cell_type": "code",
   "execution_count": 38,
   "metadata": {
    "ExecuteTime": {
     "end_time": "2019-06-29T09:09:15.592061Z",
     "start_time": "2019-06-29T09:09:14.731327Z"
    }
   },
   "outputs": [
    {
     "data": {
      "text/html": [
       "<div>\n",
       "<style>\n",
       "    .dataframe thead tr:only-child th {\n",
       "        text-align: right;\n",
       "    }\n",
       "\n",
       "    .dataframe thead th {\n",
       "        text-align: left;\n",
       "    }\n",
       "\n",
       "    .dataframe tbody tr th {\n",
       "        vertical-align: top;\n",
       "    }\n",
       "</style>\n",
       "<table border=\"1\" class=\"dataframe\">\n",
       "  <thead>\n",
       "    <tr style=\"text-align: right;\">\n",
       "      <th></th>\n",
       "      <th>InvoiceNo</th>\n",
       "      <th>StockCode</th>\n",
       "      <th>Description</th>\n",
       "      <th>Quantity</th>\n",
       "      <th>InvoiceDate</th>\n",
       "      <th>UnitPrice</th>\n",
       "      <th>CustomerID</th>\n",
       "      <th>Country</th>\n",
       "    </tr>\n",
       "  </thead>\n",
       "  <tbody>\n",
       "    <tr>\n",
       "      <th>0</th>\n",
       "      <td>536365</td>\n",
       "      <td>85123A</td>\n",
       "      <td>WHITE HANGING HEART T-LIGHT HOLDER</td>\n",
       "      <td>6</td>\n",
       "      <td>12/1/2010 8:26</td>\n",
       "      <td>2.55</td>\n",
       "      <td>17850.0</td>\n",
       "      <td>United Kingdom</td>\n",
       "    </tr>\n",
       "    <tr>\n",
       "      <th>1</th>\n",
       "      <td>536365</td>\n",
       "      <td>71053</td>\n",
       "      <td>WHITE METAL LANTERN</td>\n",
       "      <td>6</td>\n",
       "      <td>12/1/2010 8:26</td>\n",
       "      <td>3.39</td>\n",
       "      <td>17850.0</td>\n",
       "      <td>United Kingdom</td>\n",
       "    </tr>\n",
       "    <tr>\n",
       "      <th>2</th>\n",
       "      <td>536365</td>\n",
       "      <td>84406B</td>\n",
       "      <td>CREAM CUPID HEARTS COAT HANGER</td>\n",
       "      <td>8</td>\n",
       "      <td>12/1/2010 8:26</td>\n",
       "      <td>2.75</td>\n",
       "      <td>17850.0</td>\n",
       "      <td>United Kingdom</td>\n",
       "    </tr>\n",
       "    <tr>\n",
       "      <th>3</th>\n",
       "      <td>536365</td>\n",
       "      <td>84029G</td>\n",
       "      <td>KNITTED UNION FLAG HOT WATER BOTTLE</td>\n",
       "      <td>6</td>\n",
       "      <td>12/1/2010 8:26</td>\n",
       "      <td>3.39</td>\n",
       "      <td>17850.0</td>\n",
       "      <td>United Kingdom</td>\n",
       "    </tr>\n",
       "    <tr>\n",
       "      <th>4</th>\n",
       "      <td>536365</td>\n",
       "      <td>84029E</td>\n",
       "      <td>RED WOOLLY HOTTIE WHITE HEART.</td>\n",
       "      <td>6</td>\n",
       "      <td>12/1/2010 8:26</td>\n",
       "      <td>3.39</td>\n",
       "      <td>17850.0</td>\n",
       "      <td>United Kingdom</td>\n",
       "    </tr>\n",
       "  </tbody>\n",
       "</table>\n",
       "</div>"
      ],
      "text/plain": [
       "  InvoiceNo StockCode                          Description  Quantity  \\\n",
       "0    536365    85123A   WHITE HANGING HEART T-LIGHT HOLDER         6   \n",
       "1    536365     71053                  WHITE METAL LANTERN         6   \n",
       "2    536365    84406B       CREAM CUPID HEARTS COAT HANGER         8   \n",
       "3    536365    84029G  KNITTED UNION FLAG HOT WATER BOTTLE         6   \n",
       "4    536365    84029E       RED WOOLLY HOTTIE WHITE HEART.         6   \n",
       "\n",
       "      InvoiceDate  UnitPrice  CustomerID         Country  \n",
       "0  12/1/2010 8:26       2.55     17850.0  United Kingdom  \n",
       "1  12/1/2010 8:26       3.39     17850.0  United Kingdom  \n",
       "2  12/1/2010 8:26       2.75     17850.0  United Kingdom  \n",
       "3  12/1/2010 8:26       3.39     17850.0  United Kingdom  \n",
       "4  12/1/2010 8:26       3.39     17850.0  United Kingdom  "
      ]
     },
     "metadata": {},
     "output_type": "display_data"
    }
   ],
   "source": [
    "# import csv into dataframe\n",
    "full_df = pd.read_csv(\"CSV/data.csv\", encoding=\"ISO-8859-1\")\n",
    "\n",
    "# show 5 first row\n",
    "display(full_df.head())"
   ]
  },
  {
   "cell_type": "markdown",
   "metadata": {},
   "source": [
    "* **InvoiceNo   :** *Unique ID to identify each invoice.*\n",
    "* **StockCode   :** *Unique ID for each item.*\n",
    "* **Description :** *A short description for each item.*\n",
    "* **Quantity    :** *Number of items bought.*\n",
    "* **InvoiceDate :** *Date when item was bought.*\n",
    "* **UnitPrice   :** *The price of each item.*\n",
    "* **CustomerID  :** *Unique ID for each customer.*\n",
    "* **Country     :** *Customers's country of origin.*\n",
    "* Variables of interest are:\n",
    "    - **InvoiceDate** to calculate ***Recency***.\n",
    "    - **InvoiceNo** to calculate ***Frequency***.\n",
    "    - **Quantity** and **UnitPrice** to calculate ***Monetary***."
   ]
  },
  {
   "cell_type": "markdown",
   "metadata": {},
   "source": [
    "***\n",
    "**2.2** *Data cleaning*<a id = '2.2'></a>\n",
    "***\n",
    "This section shows process of cleaning the data. Task carried out in this section are removing customers with no ID, removing cancelled order and removing records from 2010. Records from 2010 are removed so that we can focus our analysis on transactions from the year 2011."
   ]
  },
  {
   "cell_type": "code",
   "execution_count": 39,
   "metadata": {
    "ExecuteTime": {
     "end_time": "2019-06-29T09:09:15.824488Z",
     "start_time": "2019-06-29T09:09:15.592061Z"
    }
   },
   "outputs": [
    {
     "name": "stdout",
     "output_type": "stream",
     "text": [
      "* Total unique customers: 3165\n",
      "* Total unique items: 3324\n",
      "* Total unique transactions: 9786\n"
     ]
    }
   ],
   "source": [
    "# Remove customer with no id\n",
    "full_df.dropna(subset=['CustomerID'], how='all', inplace=True)\n",
    "\n",
    "# Keep only transaction where quantity is more than 0 (canceled order)\n",
    "full_df = full_df[full_df['Quantity'] > 0]\n",
    "\n",
    "# RFM analysis for 2011 only, records from 2010 will be removed\n",
    "full_df = full_df[full_df['InvoiceDate']>= \"2011-01-01\"]\n",
    "\n",
    "# change customerID datatype\n",
    "full_df['CustomerID'] = full_df['CustomerID'].astype('int')\n",
    "\n",
    "# Print out overview of final full_df\n",
    "print(\"* Total unique customers:\", full_df['CustomerID'].nunique())\n",
    "print(\"* Total unique items:\", full_df['StockCode'].nunique())\n",
    "print(\"* Total unique transactions:\", full_df['InvoiceNo'].nunique())"
   ]
  },
  {
   "cell_type": "markdown",
   "metadata": {},
   "source": [
    "[Back to Table of Content](#TOC)"
   ]
  },
  {
   "cell_type": "markdown",
   "metadata": {},
   "source": [
    "# 3. Recency-Frequency-Monetary (RFM) Analysis <a id = '3'></a>"
   ]
  },
  {
   "cell_type": "markdown",
   "metadata": {},
   "source": [
    "***\n",
    "**3.1** *Recency*<a id = '3.1'></a>\n",
    "***\n",
    "The ***Recency*** metric measures the time since the last activity done by the customer. For this analysis, the activity is defined as a customer's transactions."
   ]
  },
  {
   "cell_type": "code",
   "execution_count": 67,
   "metadata": {
    "ExecuteTime": {
     "end_time": "2019-06-29T13:57:58.200414Z",
     "start_time": "2019-06-29T13:57:53.781336Z"
    }
   },
   "outputs": [
    {
     "data": {
      "text/html": [
       "<div>\n",
       "<style>\n",
       "    .dataframe thead tr:only-child th {\n",
       "        text-align: right;\n",
       "    }\n",
       "\n",
       "    .dataframe thead th {\n",
       "        text-align: left;\n",
       "    }\n",
       "\n",
       "    .dataframe tbody tr th {\n",
       "        vertical-align: top;\n",
       "    }\n",
       "</style>\n",
       "<table border=\"1\" class=\"dataframe\">\n",
       "  <thead>\n",
       "    <tr style=\"text-align: right;\">\n",
       "      <th></th>\n",
       "      <th>CustomerID</th>\n",
       "      <th>Recency</th>\n",
       "    </tr>\n",
       "  </thead>\n",
       "  <tbody>\n",
       "    <tr>\n",
       "      <th>0</th>\n",
       "      <td>12347</td>\n",
       "      <td>60</td>\n",
       "    </tr>\n",
       "    <tr>\n",
       "      <th>1</th>\n",
       "      <td>12348</td>\n",
       "      <td>6</td>\n",
       "    </tr>\n",
       "    <tr>\n",
       "      <th>2</th>\n",
       "      <td>12352</td>\n",
       "      <td>3</td>\n",
       "    </tr>\n",
       "    <tr>\n",
       "      <th>3</th>\n",
       "      <td>12353</td>\n",
       "      <td>135</td>\n",
       "    </tr>\n",
       "    <tr>\n",
       "      <th>4</th>\n",
       "      <td>12354</td>\n",
       "      <td>163</td>\n",
       "    </tr>\n",
       "  </tbody>\n",
       "</table>\n",
       "</div>"
      ],
      "text/plain": [
       "   CustomerID  Recency\n",
       "0       12347       60\n",
       "1       12348        6\n",
       "2       12352        3\n",
       "3       12353      135\n",
       "4       12354      163"
      ]
     },
     "metadata": {},
     "output_type": "display_data"
    },
    {
     "name": "stdout",
     "output_type": "stream",
     "text": [
      "\n",
      "* Shape: (3165, 2)\n"
     ]
    }
   ],
   "source": [
    "# convert date to datetime index\n",
    "full_df['InvoiceDate'] = pd.DatetimeIndex(full_df['InvoiceDate']).date\n",
    "\n",
    "# use the day after the latest date in dataframe as the reference date\n",
    "date_ref = full_df['InvoiceDate'].max() + timedelta(days = 1)\n",
    "\n",
    "# Create a new dataframe to calculate recency\n",
    "rec_df = full_df.groupby(by = 'CustomerID', as_index = False)['InvoiceDate'].max()\n",
    "rec_df.columns = ['CustomerID', 'LastInvoiceDate']\n",
    "\n",
    "# calculate days since last purchase based on reference date\n",
    "days_since = np.zeros(len(rec_df['LastInvoiceDate'].index), dtype = 'int') \n",
    "i = 0\n",
    "for date in rec_df['LastInvoiceDate']:\n",
    "    \n",
    "    days_since[i] = (date_ref - date).days\n",
    "    i = i + 1\n",
    "    \n",
    "# Add recency column to dataframe\n",
    "rec_df['Recency'] = days_since\n",
    "\n",
    "# drop LastInvoiceDate\n",
    "rec_df = rec_df.drop('LastInvoiceDate', axis = 1)\n",
    "\n",
    "# Show rec_df\n",
    "display(rec_df.head())\n",
    "print(\"\\n* Shape:\", rec_df.shape)"
   ]
  },
  {
   "cell_type": "markdown",
   "metadata": {},
   "source": [
    "[Back to Table of Content](#TOC)"
   ]
  },
  {
   "cell_type": "markdown",
   "metadata": {},
   "source": [
    "***\n",
    "**3.2** *Frequency*<a id = '3.2'></a>\n",
    "***\n",
    "\n",
    "The ***Frequency*** metric measures the frequency at which a customer engages in an activity. Similar to the last section, activity here refers to a customer's transaction."
   ]
  },
  {
   "cell_type": "code",
   "execution_count": 55,
   "metadata": {
    "ExecuteTime": {
     "end_time": "2019-06-29T09:33:38.627223Z",
     "start_time": "2019-06-29T09:33:38.575653Z"
    }
   },
   "outputs": [
    {
     "data": {
      "text/html": [
       "<div>\n",
       "<style>\n",
       "    .dataframe thead tr:only-child th {\n",
       "        text-align: right;\n",
       "    }\n",
       "\n",
       "    .dataframe thead th {\n",
       "        text-align: left;\n",
       "    }\n",
       "\n",
       "    .dataframe tbody tr th {\n",
       "        vertical-align: top;\n",
       "    }\n",
       "</style>\n",
       "<table border=\"1\" class=\"dataframe\">\n",
       "  <thead>\n",
       "    <tr style=\"text-align: right;\">\n",
       "      <th></th>\n",
       "      <th>CustomerID</th>\n",
       "      <th>Frequency</th>\n",
       "    </tr>\n",
       "  </thead>\n",
       "  <tbody>\n",
       "    <tr>\n",
       "      <th>0</th>\n",
       "      <td>12347</td>\n",
       "      <td>3</td>\n",
       "    </tr>\n",
       "    <tr>\n",
       "      <th>1</th>\n",
       "      <td>12348</td>\n",
       "      <td>2</td>\n",
       "    </tr>\n",
       "    <tr>\n",
       "      <th>2</th>\n",
       "      <td>12352</td>\n",
       "      <td>6</td>\n",
       "    </tr>\n",
       "    <tr>\n",
       "      <th>3</th>\n",
       "      <td>12353</td>\n",
       "      <td>1</td>\n",
       "    </tr>\n",
       "    <tr>\n",
       "      <th>4</th>\n",
       "      <td>12354</td>\n",
       "      <td>1</td>\n",
       "    </tr>\n",
       "  </tbody>\n",
       "</table>\n",
       "</div>"
      ],
      "text/plain": [
       "   CustomerID  Frequency\n",
       "0       12347          3\n",
       "1       12348          2\n",
       "2       12352          6\n",
       "3       12353          1\n",
       "4       12354          1"
      ]
     },
     "metadata": {},
     "output_type": "display_data"
    },
    {
     "name": "stdout",
     "output_type": "stream",
     "text": [
      "\n",
      "* Shape: (3165, 2)\n"
     ]
    }
   ],
   "source": [
    "# Extract each unique InvoiceNo\n",
    "temp_df = full_df\n",
    "temp_df = temp_df.drop_duplicates(subset = ['InvoiceNo', 'CustomerID'], keep = 'first')\n",
    "\n",
    "# Calculate frequency of purchase\n",
    "freq_df = temp_df.groupby(by = ['CustomerID'], as_index = False)['InvoiceNo'].count()\n",
    "freq_df.columns = ['CustomerID', 'Frequency']\n",
    "\n",
    "# Show frequency dataframe\n",
    "display(freq_df.head())\n",
    "print(\"\\n* Shape:\", freq_df.shape)"
   ]
  },
  {
   "cell_type": "markdown",
   "metadata": {},
   "source": [
    "[Back to Table of Content](#TOC)"
   ]
  },
  {
   "cell_type": "markdown",
   "metadata": {},
   "source": [
    "***\n",
    "**3.3** *Monetary value*<a id = '3.3'></a>\n",
    "***\n",
    "The ***Monetary*** metric keeps track of the purchasing power of a customer. In this analysis, it is measured as the total transaction value of the customer."
   ]
  },
  {
   "cell_type": "code",
   "execution_count": 54,
   "metadata": {
    "ExecuteTime": {
     "end_time": "2019-06-29T09:33:33.209249Z",
     "start_time": "2019-06-29T09:33:33.162385Z"
    }
   },
   "outputs": [
    {
     "data": {
      "text/html": [
       "<div>\n",
       "<style>\n",
       "    .dataframe thead tr:only-child th {\n",
       "        text-align: right;\n",
       "    }\n",
       "\n",
       "    .dataframe thead th {\n",
       "        text-align: left;\n",
       "    }\n",
       "\n",
       "    .dataframe tbody tr th {\n",
       "        vertical-align: top;\n",
       "    }\n",
       "</style>\n",
       "<table border=\"1\" class=\"dataframe\">\n",
       "  <thead>\n",
       "    <tr style=\"text-align: right;\">\n",
       "      <th></th>\n",
       "      <th>CustomerID</th>\n",
       "      <th>Monetary</th>\n",
       "    </tr>\n",
       "  </thead>\n",
       "  <tbody>\n",
       "    <tr>\n",
       "      <th>0</th>\n",
       "      <td>12347</td>\n",
       "      <td>1603.68</td>\n",
       "    </tr>\n",
       "    <tr>\n",
       "      <th>1</th>\n",
       "      <td>12348</td>\n",
       "      <td>677.00</td>\n",
       "    </tr>\n",
       "    <tr>\n",
       "      <th>2</th>\n",
       "      <td>12352</td>\n",
       "      <td>1897.81</td>\n",
       "    </tr>\n",
       "    <tr>\n",
       "      <th>3</th>\n",
       "      <td>12353</td>\n",
       "      <td>89.00</td>\n",
       "    </tr>\n",
       "    <tr>\n",
       "      <th>4</th>\n",
       "      <td>12354</td>\n",
       "      <td>1079.40</td>\n",
       "    </tr>\n",
       "  </tbody>\n",
       "</table>\n",
       "</div>"
      ],
      "text/plain": [
       "   CustomerID  Monetary\n",
       "0       12347   1603.68\n",
       "1       12348    677.00\n",
       "2       12352   1897.81\n",
       "3       12353     89.00\n",
       "4       12354   1079.40"
      ]
     },
     "metadata": {},
     "output_type": "display_data"
    },
    {
     "name": "stdout",
     "output_type": "stream",
     "text": [
      "\n",
      "* Shape: (3165, 2)\n"
     ]
    }
   ],
   "source": [
    "# Create total cost column\n",
    "full_df['TotalCost'] = full_df['Quantity'] * full_df['UnitPrice']\n",
    "\n",
    "# create monetary dataframe\n",
    "mon_df = full_df.groupby(by = 'CustomerID', as_index = False).agg({'TotalCost': 'sum'})\n",
    "mon_df.columns = ['CustomerID','Monetary']\n",
    "\n",
    "# Show monetray dataframe\n",
    "display(mon_df.head())\n",
    "print(\"\\n* Shape:\", mon_df.shape)"
   ]
  },
  {
   "cell_type": "markdown",
   "metadata": {},
   "source": [
    "[Back to Table of Content](#TOC)"
   ]
  },
  {
   "cell_type": "markdown",
   "metadata": {},
   "source": [
    "***\n",
    "**3.4** *R-F-M table*<a id = '3.4'></a>\n",
    "***\n",
    "The ***Recency***, ***Frequency*** and ***Monetary*** dataframe were then merged into one single dataframe."
   ]
  },
  {
   "cell_type": "code",
   "execution_count": 73,
   "metadata": {
    "ExecuteTime": {
     "end_time": "2019-06-29T14:00:59.068244Z",
     "start_time": "2019-06-29T14:00:59.037038Z"
    }
   },
   "outputs": [
    {
     "data": {
      "text/html": [
       "<div>\n",
       "<style>\n",
       "    .dataframe thead tr:only-child th {\n",
       "        text-align: right;\n",
       "    }\n",
       "\n",
       "    .dataframe thead th {\n",
       "        text-align: left;\n",
       "    }\n",
       "\n",
       "    .dataframe tbody tr th {\n",
       "        vertical-align: top;\n",
       "    }\n",
       "</style>\n",
       "<table border=\"1\" class=\"dataframe\">\n",
       "  <thead>\n",
       "    <tr style=\"text-align: right;\">\n",
       "      <th></th>\n",
       "      <th>Recency</th>\n",
       "      <th>Frequency</th>\n",
       "      <th>Monetary</th>\n",
       "    </tr>\n",
       "    <tr>\n",
       "      <th>CustomerID</th>\n",
       "      <th></th>\n",
       "      <th></th>\n",
       "      <th></th>\n",
       "    </tr>\n",
       "  </thead>\n",
       "  <tbody>\n",
       "    <tr>\n",
       "      <th>12347</th>\n",
       "      <td>60</td>\n",
       "      <td>3</td>\n",
       "      <td>1603.68</td>\n",
       "    </tr>\n",
       "    <tr>\n",
       "      <th>12348</th>\n",
       "      <td>6</td>\n",
       "      <td>2</td>\n",
       "      <td>677.00</td>\n",
       "    </tr>\n",
       "    <tr>\n",
       "      <th>12352</th>\n",
       "      <td>3</td>\n",
       "      <td>6</td>\n",
       "      <td>1897.81</td>\n",
       "    </tr>\n",
       "    <tr>\n",
       "      <th>12353</th>\n",
       "      <td>135</td>\n",
       "      <td>1</td>\n",
       "      <td>89.00</td>\n",
       "    </tr>\n",
       "    <tr>\n",
       "      <th>12354</th>\n",
       "      <td>163</td>\n",
       "      <td>1</td>\n",
       "      <td>1079.40</td>\n",
       "    </tr>\n",
       "  </tbody>\n",
       "</table>\n",
       "</div>"
      ],
      "text/plain": [
       "            Recency  Frequency  Monetary\n",
       "CustomerID                              \n",
       "12347            60          3   1603.68\n",
       "12348             6          2    677.00\n",
       "12352             3          6   1897.81\n",
       "12353           135          1     89.00\n",
       "12354           163          1   1079.40"
      ]
     },
     "metadata": {},
     "output_type": "display_data"
    },
    {
     "name": "stdout",
     "output_type": "stream",
     "text": [
      "\n",
      "* Shape: (3165, 3)\n"
     ]
    }
   ],
   "source": [
    "# merge the dataframe\n",
    "rfm_df = rec_df.merge(freq_df, on='CustomerID').merge(mon_df, on='CustomerID')\n",
    "\n",
    "# customer id as index\n",
    "rfm_df = rfm_df.set_index('CustomerID')\n",
    "\n",
    "# show rfm table\n",
    "display(rfm_df.head())\n",
    "print(\"\\n* Shape:\", rfm_df.shape)"
   ]
  },
  {
   "cell_type": "markdown",
   "metadata": {},
   "source": [
    "[Back to Table of Content](#TOC)"
   ]
  },
  {
   "cell_type": "markdown",
   "metadata": {},
   "source": [
    "***\n",
    "**3.5** *R-F-M score*<a id = '3.5'></a>\n",
    "***\n",
    "The R-F-M score would then be determined based on which quartile the ***Recency***, ***Frequency*** and ***Monetary*** values are on. The score ranges from 1 to 4, with 1 being the best score. For ***Recency*** values: *The lower it is, the better the score*. For ***Frequency*** and ***Monetary*** values: *The higher it is, the better the score.*"
   ]
  },
  {
   "cell_type": "code",
   "execution_count": 74,
   "metadata": {
    "ExecuteTime": {
     "end_time": "2019-06-30T02:11:34.558879Z",
     "start_time": "2019-06-30T02:11:31.278142Z"
    }
   },
   "outputs": [
    {
     "data": {
      "text/html": [
       "<div>\n",
       "<style>\n",
       "    .dataframe thead tr:only-child th {\n",
       "        text-align: right;\n",
       "    }\n",
       "\n",
       "    .dataframe thead th {\n",
       "        text-align: left;\n",
       "    }\n",
       "\n",
       "    .dataframe tbody tr th {\n",
       "        vertical-align: top;\n",
       "    }\n",
       "</style>\n",
       "<table border=\"1\" class=\"dataframe\">\n",
       "  <thead>\n",
       "    <tr style=\"text-align: right;\">\n",
       "      <th></th>\n",
       "      <th>Recency</th>\n",
       "      <th>Frequency</th>\n",
       "      <th>Monetary</th>\n",
       "    </tr>\n",
       "  </thead>\n",
       "  <tbody>\n",
       "    <tr>\n",
       "      <th>0.25</th>\n",
       "      <td>16.0</td>\n",
       "      <td>1.0</td>\n",
       "      <td>274.60</td>\n",
       "    </tr>\n",
       "    <tr>\n",
       "      <th>0.50</th>\n",
       "      <td>48.0</td>\n",
       "      <td>2.0</td>\n",
       "      <td>552.00</td>\n",
       "    </tr>\n",
       "    <tr>\n",
       "      <th>0.75</th>\n",
       "      <td>113.0</td>\n",
       "      <td>3.0</td>\n",
       "      <td>1259.67</td>\n",
       "    </tr>\n",
       "  </tbody>\n",
       "</table>\n",
       "</div>"
      ],
      "text/plain": [
       "      Recency  Frequency  Monetary\n",
       "0.25     16.0        1.0    274.60\n",
       "0.50     48.0        2.0    552.00\n",
       "0.75    113.0        3.0   1259.67"
      ]
     },
     "metadata": {},
     "output_type": "display_data"
    }
   ],
   "source": [
    "# calculate quartiles\n",
    "quartile_df = rfm_df.quantile([0.25, 0.5, 0.75])\n",
    "display(quartile_df)"
   ]
  },
  {
   "cell_type": "code",
   "execution_count": 78,
   "metadata": {
    "ExecuteTime": {
     "end_time": "2019-06-30T02:26:46.399278Z",
     "start_time": "2019-06-30T02:26:45.962033Z"
    }
   },
   "outputs": [
    {
     "data": {
      "text/html": [
       "<div>\n",
       "<style>\n",
       "    .dataframe thead tr:only-child th {\n",
       "        text-align: right;\n",
       "    }\n",
       "\n",
       "    .dataframe thead th {\n",
       "        text-align: left;\n",
       "    }\n",
       "\n",
       "    .dataframe tbody tr th {\n",
       "        vertical-align: top;\n",
       "    }\n",
       "</style>\n",
       "<table border=\"1\" class=\"dataframe\">\n",
       "  <thead>\n",
       "    <tr style=\"text-align: right;\">\n",
       "      <th></th>\n",
       "      <th>Recency</th>\n",
       "      <th>Frequency</th>\n",
       "      <th>Monetary</th>\n",
       "      <th>R</th>\n",
       "      <th>F</th>\n",
       "      <th>M</th>\n",
       "    </tr>\n",
       "    <tr>\n",
       "      <th>CustomerID</th>\n",
       "      <th></th>\n",
       "      <th></th>\n",
       "      <th></th>\n",
       "      <th></th>\n",
       "      <th></th>\n",
       "      <th></th>\n",
       "    </tr>\n",
       "  </thead>\n",
       "  <tbody>\n",
       "    <tr>\n",
       "      <th>12347</th>\n",
       "      <td>60</td>\n",
       "      <td>3</td>\n",
       "      <td>1603.68</td>\n",
       "      <td>3</td>\n",
       "      <td>2</td>\n",
       "      <td>1</td>\n",
       "    </tr>\n",
       "    <tr>\n",
       "      <th>12348</th>\n",
       "      <td>6</td>\n",
       "      <td>2</td>\n",
       "      <td>677.00</td>\n",
       "      <td>1</td>\n",
       "      <td>3</td>\n",
       "      <td>2</td>\n",
       "    </tr>\n",
       "    <tr>\n",
       "      <th>12352</th>\n",
       "      <td>3</td>\n",
       "      <td>6</td>\n",
       "      <td>1897.81</td>\n",
       "      <td>1</td>\n",
       "      <td>1</td>\n",
       "      <td>1</td>\n",
       "    </tr>\n",
       "    <tr>\n",
       "      <th>12353</th>\n",
       "      <td>135</td>\n",
       "      <td>1</td>\n",
       "      <td>89.00</td>\n",
       "      <td>4</td>\n",
       "      <td>4</td>\n",
       "      <td>4</td>\n",
       "    </tr>\n",
       "    <tr>\n",
       "      <th>12354</th>\n",
       "      <td>163</td>\n",
       "      <td>1</td>\n",
       "      <td>1079.40</td>\n",
       "      <td>4</td>\n",
       "      <td>4</td>\n",
       "      <td>2</td>\n",
       "    </tr>\n",
       "  </tbody>\n",
       "</table>\n",
       "</div>"
      ],
      "text/plain": [
       "            Recency  Frequency  Monetary  R  F  M\n",
       "CustomerID                                       \n",
       "12347            60          3   1603.68  3  2  1\n",
       "12348             6          2    677.00  1  3  2\n",
       "12352             3          6   1897.81  1  1  1\n",
       "12353           135          1     89.00  4  4  4\n",
       "12354           163          1   1079.40  4  4  2"
      ]
     },
     "metadata": {},
     "output_type": "display_data"
    }
   ],
   "source": [
    "# Create R, F and M array\n",
    "r_score = np.zeros(len(rfm_df.index), dtype = 'int')\n",
    "f_score = np.zeros(len(rfm_df.index), dtype = 'int')\n",
    "m_score = np.zeros(len(rfm_df.index), dtype = 'int')\n",
    "\n",
    "# calculate R score\n",
    "i = 0\n",
    "for recency in rfm_df['Recency']:\n",
    "    if recency <= quartile_df['Recency'][0.25]:\n",
    "        r_score[i] = 1\n",
    "        i = i + 1\n",
    "    elif recency <= quartile_df['Recency'][0.5]:\n",
    "        r_score[i] = 2\n",
    "        i = i + 1\n",
    "    elif recency <= quartile_df['Recency'][0.75]:\n",
    "        r_score[i] = 3\n",
    "        i = i + 1\n",
    "    else:\n",
    "        r_score[i] = 4\n",
    "        i = i + 1\n",
    "        \n",
    "# Add R column\n",
    "rfm_df['R'] = r_score\n",
    "\n",
    "# calculate F score\n",
    "i = 0\n",
    "for frequency in rfm_df['Frequency']:\n",
    "    if frequency <= quartile_df['Frequency'][0.25]:\n",
    "        f_score[i] = 4\n",
    "        i = i + 1\n",
    "    elif frequency <= quartile_df['Frequency'][0.5]:\n",
    "        f_score[i] = 3\n",
    "        i = i + 1\n",
    "    elif frequency <= quartile_df['Frequency'][0.75]:\n",
    "        f_score[i] = 2\n",
    "        i = i + 1\n",
    "    else:\n",
    "        f_score[i] = 1\n",
    "        i = i + 1\n",
    "        \n",
    "# Add F column\n",
    "rfm_df['F'] = f_score\n",
    "\n",
    "# calculate M score\n",
    "i = 0\n",
    "for monetary in rfm_df['Monetary']:\n",
    "    if monetary <= quartile_df['Monetary'][0.25]:\n",
    "        m_score[i] = 4\n",
    "        i = i + 1\n",
    "    elif monetary <= quartile_df['Monetary'][0.5]:\n",
    "        m_score[i] = 3\n",
    "        i = i + 1\n",
    "    elif monetary <= quartile_df['Monetary'][0.75]:\n",
    "        m_score[i] = 2\n",
    "        i = i + 1\n",
    "    else:\n",
    "        m_score[i] = 1\n",
    "        i = i + 1\n",
    "        \n",
    "# Add M column\n",
    "rfm_df['M'] = m_score\n",
    "\n",
    "\n",
    "# show RFM_df\n",
    "display(rfm_df.head())"
   ]
  },
  {
   "cell_type": "markdown",
   "metadata": {},
   "source": [
    "[Back to Table of Content](#TOC)"
   ]
  },
  {
   "cell_type": "markdown",
   "metadata": {},
   "source": [
    "# 4. Key Segments <a id = '4'></a>"
   ]
  },
  {
   "cell_type": "markdown",
   "metadata": {},
   "source": [
    "This section shows some important segments which should be focused on. The interpretation is based on this [blog post](#https://www.blastam.com/blog/rfm-analysis-boosts-sales)."
   ]
  },
  {
   "cell_type": "markdown",
   "metadata": {},
   "source": [
    "***\n",
    "**4.1** *Best Customers*<a id = '4.1'></a>\n",
    "***\n",
    "* Best customers are the customers bought most recently, most often and spend the most."
   ]
  },
  {
   "cell_type": "code",
   "execution_count": 83,
   "metadata": {
    "ExecuteTime": {
     "end_time": "2019-06-30T02:53:17.418766Z",
     "start_time": "2019-06-30T02:53:17.387481Z"
    }
   },
   "outputs": [
    {
     "data": {
      "text/html": [
       "<div>\n",
       "<style>\n",
       "    .dataframe thead tr:only-child th {\n",
       "        text-align: right;\n",
       "    }\n",
       "\n",
       "    .dataframe thead th {\n",
       "        text-align: left;\n",
       "    }\n",
       "\n",
       "    .dataframe tbody tr th {\n",
       "        vertical-align: top;\n",
       "    }\n",
       "</style>\n",
       "<table border=\"1\" class=\"dataframe\">\n",
       "  <thead>\n",
       "    <tr style=\"text-align: right;\">\n",
       "      <th></th>\n",
       "      <th>Recency</th>\n",
       "      <th>Frequency</th>\n",
       "      <th>Monetary</th>\n",
       "      <th>R</th>\n",
       "      <th>F</th>\n",
       "      <th>M</th>\n",
       "    </tr>\n",
       "    <tr>\n",
       "      <th>CustomerID</th>\n",
       "      <th></th>\n",
       "      <th></th>\n",
       "      <th></th>\n",
       "      <th></th>\n",
       "      <th></th>\n",
       "      <th></th>\n",
       "    </tr>\n",
       "  </thead>\n",
       "  <tbody>\n",
       "    <tr>\n",
       "      <th>12352</th>\n",
       "      <td>3</td>\n",
       "      <td>6</td>\n",
       "      <td>1897.81</td>\n",
       "      <td>1</td>\n",
       "      <td>1</td>\n",
       "      <td>1</td>\n",
       "    </tr>\n",
       "    <tr>\n",
       "      <th>12362</th>\n",
       "      <td>3</td>\n",
       "      <td>4</td>\n",
       "      <td>2098.24</td>\n",
       "      <td>1</td>\n",
       "      <td>1</td>\n",
       "      <td>1</td>\n",
       "    </tr>\n",
       "    <tr>\n",
       "      <th>12437</th>\n",
       "      <td>9</td>\n",
       "      <td>8</td>\n",
       "      <td>2051.05</td>\n",
       "      <td>1</td>\n",
       "      <td>1</td>\n",
       "      <td>1</td>\n",
       "    </tr>\n",
       "    <tr>\n",
       "      <th>12457</th>\n",
       "      <td>12</td>\n",
       "      <td>6</td>\n",
       "      <td>2166.88</td>\n",
       "      <td>1</td>\n",
       "      <td>1</td>\n",
       "      <td>1</td>\n",
       "    </tr>\n",
       "    <tr>\n",
       "      <th>12471</th>\n",
       "      <td>9</td>\n",
       "      <td>14</td>\n",
       "      <td>5816.65</td>\n",
       "      <td>1</td>\n",
       "      <td>1</td>\n",
       "      <td>1</td>\n",
       "    </tr>\n",
       "  </tbody>\n",
       "</table>\n",
       "</div>"
      ],
      "text/plain": [
       "            Recency  Frequency  Monetary  R  F  M\n",
       "CustomerID                                       \n",
       "12352             3          6   1897.81  1  1  1\n",
       "12362             3          4   2098.24  1  1  1\n",
       "12437             9          8   2051.05  1  1  1\n",
       "12457            12          6   2166.88  1  1  1\n",
       "12471             9         14   5816.65  1  1  1"
      ]
     },
     "metadata": {},
     "output_type": "display_data"
    },
    {
     "name": "stdout",
     "output_type": "stream",
     "text": [
      "\n",
      "Total Customers in this segment: 269\n"
     ]
    }
   ],
   "source": [
    "# Find out who are the best customers (111)\n",
    "best_customers = rfm_df[(rfm_df['R'] == 1) & (rfm_df['F'] == 1) & (rfm_df['M'] == 1)]\n",
    "display(best_customers.head())\n",
    "print('\\nTotal Customers in this segment:', len(best_customers.index))"
   ]
  },
  {
   "cell_type": "markdown",
   "metadata": {},
   "source": [
    "***Suggested marketing strategies:***\n",
    "   * No price incentives\n",
    "   * New products\n",
    "   * Loyalty programs"
   ]
  },
  {
   "cell_type": "markdown",
   "metadata": {},
   "source": [
    "[Back to Table of Content](#TOC)"
   ]
  },
  {
   "cell_type": "markdown",
   "metadata": {},
   "source": [
    "***\n",
    "**4.2** *Loyal Customers*<a id = '4.2'></a>\n",
    "***\n",
    "Loyal customers are customers who bought most frequently."
   ]
  },
  {
   "cell_type": "code",
   "execution_count": 84,
   "metadata": {
    "ExecuteTime": {
     "end_time": "2019-06-30T02:54:03.681379Z",
     "start_time": "2019-06-30T02:54:03.637507Z"
    }
   },
   "outputs": [
    {
     "data": {
      "text/html": [
       "<div>\n",
       "<style>\n",
       "    .dataframe thead tr:only-child th {\n",
       "        text-align: right;\n",
       "    }\n",
       "\n",
       "    .dataframe thead th {\n",
       "        text-align: left;\n",
       "    }\n",
       "\n",
       "    .dataframe tbody tr th {\n",
       "        vertical-align: top;\n",
       "    }\n",
       "</style>\n",
       "<table border=\"1\" class=\"dataframe\">\n",
       "  <thead>\n",
       "    <tr style=\"text-align: right;\">\n",
       "      <th></th>\n",
       "      <th>Recency</th>\n",
       "      <th>Frequency</th>\n",
       "      <th>Monetary</th>\n",
       "      <th>R</th>\n",
       "      <th>F</th>\n",
       "      <th>M</th>\n",
       "    </tr>\n",
       "    <tr>\n",
       "      <th>CustomerID</th>\n",
       "      <th></th>\n",
       "      <th></th>\n",
       "      <th></th>\n",
       "      <th></th>\n",
       "      <th></th>\n",
       "      <th></th>\n",
       "    </tr>\n",
       "  </thead>\n",
       "  <tbody>\n",
       "    <tr>\n",
       "      <th>12352</th>\n",
       "      <td>3</td>\n",
       "      <td>6</td>\n",
       "      <td>1897.81</td>\n",
       "      <td>1</td>\n",
       "      <td>1</td>\n",
       "      <td>1</td>\n",
       "    </tr>\n",
       "    <tr>\n",
       "      <th>12362</th>\n",
       "      <td>3</td>\n",
       "      <td>4</td>\n",
       "      <td>2098.24</td>\n",
       "      <td>1</td>\n",
       "      <td>1</td>\n",
       "      <td>1</td>\n",
       "    </tr>\n",
       "    <tr>\n",
       "      <th>12395</th>\n",
       "      <td>43</td>\n",
       "      <td>5</td>\n",
       "      <td>988.14</td>\n",
       "      <td>2</td>\n",
       "      <td>1</td>\n",
       "      <td>2</td>\n",
       "    </tr>\n",
       "    <tr>\n",
       "      <th>12399</th>\n",
       "      <td>50</td>\n",
       "      <td>4</td>\n",
       "      <td>1108.65</td>\n",
       "      <td>3</td>\n",
       "      <td>1</td>\n",
       "      <td>2</td>\n",
       "    </tr>\n",
       "    <tr>\n",
       "      <th>12407</th>\n",
       "      <td>65</td>\n",
       "      <td>4</td>\n",
       "      <td>1407.36</td>\n",
       "      <td>3</td>\n",
       "      <td>1</td>\n",
       "      <td>1</td>\n",
       "    </tr>\n",
       "  </tbody>\n",
       "</table>\n",
       "</div>"
      ],
      "text/plain": [
       "            Recency  Frequency  Monetary  R  F  M\n",
       "CustomerID                                       \n",
       "12352             3          6   1897.81  1  1  1\n",
       "12362             3          4   2098.24  1  1  1\n",
       "12395            43          5    988.14  2  1  2\n",
       "12399            50          4   1108.65  3  1  2\n",
       "12407            65          4   1407.36  3  1  1"
      ]
     },
     "metadata": {},
     "output_type": "display_data"
    },
    {
     "name": "stdout",
     "output_type": "stream",
     "text": [
      "\n",
      "Total Customers in this segment: 760\n"
     ]
    }
   ],
   "source": [
    "# Find out who are the loyal customers (x1x)\n",
    "loyal_customers = rfm_df[(rfm_df['F'] == 1)]\n",
    "display(loyal_customers.head())\n",
    "print('\\nTotal Customers in this segment:', len(loyal_customers.index))"
   ]
  },
  {
   "cell_type": "markdown",
   "metadata": {},
   "source": [
    "***Suggested marketing strategies:***\n",
    "   * Loyalty programs"
   ]
  },
  {
   "cell_type": "markdown",
   "metadata": {},
   "source": [
    "[Back to Table of Content](#TOC)"
   ]
  },
  {
   "cell_type": "markdown",
   "metadata": {},
   "source": [
    "***\n",
    "**4.3** *Big Spenders*<a id = '4.3'></a>\n",
    "***\n",
    "Big spenders are customers who spend the most."
   ]
  },
  {
   "cell_type": "code",
   "execution_count": 85,
   "metadata": {
    "ExecuteTime": {
     "end_time": "2019-06-30T02:56:59.238076Z",
     "start_time": "2019-06-30T02:56:59.175591Z"
    }
   },
   "outputs": [
    {
     "data": {
      "text/html": [
       "<div>\n",
       "<style>\n",
       "    .dataframe thead tr:only-child th {\n",
       "        text-align: right;\n",
       "    }\n",
       "\n",
       "    .dataframe thead th {\n",
       "        text-align: left;\n",
       "    }\n",
       "\n",
       "    .dataframe tbody tr th {\n",
       "        vertical-align: top;\n",
       "    }\n",
       "</style>\n",
       "<table border=\"1\" class=\"dataframe\">\n",
       "  <thead>\n",
       "    <tr style=\"text-align: right;\">\n",
       "      <th></th>\n",
       "      <th>Recency</th>\n",
       "      <th>Frequency</th>\n",
       "      <th>Monetary</th>\n",
       "      <th>R</th>\n",
       "      <th>F</th>\n",
       "      <th>M</th>\n",
       "    </tr>\n",
       "    <tr>\n",
       "      <th>CustomerID</th>\n",
       "      <th></th>\n",
       "      <th></th>\n",
       "      <th></th>\n",
       "      <th></th>\n",
       "      <th></th>\n",
       "      <th></th>\n",
       "    </tr>\n",
       "  </thead>\n",
       "  <tbody>\n",
       "    <tr>\n",
       "      <th>12347</th>\n",
       "      <td>60</td>\n",
       "      <td>3</td>\n",
       "      <td>1603.68</td>\n",
       "      <td>3</td>\n",
       "      <td>2</td>\n",
       "      <td>1</td>\n",
       "    </tr>\n",
       "    <tr>\n",
       "      <th>12352</th>\n",
       "      <td>3</td>\n",
       "      <td>6</td>\n",
       "      <td>1897.81</td>\n",
       "      <td>1</td>\n",
       "      <td>1</td>\n",
       "      <td>1</td>\n",
       "    </tr>\n",
       "    <tr>\n",
       "      <th>12360</th>\n",
       "      <td>43</td>\n",
       "      <td>2</td>\n",
       "      <td>1618.28</td>\n",
       "      <td>2</td>\n",
       "      <td>3</td>\n",
       "      <td>1</td>\n",
       "    </tr>\n",
       "    <tr>\n",
       "      <th>12362</th>\n",
       "      <td>3</td>\n",
       "      <td>4</td>\n",
       "      <td>2098.24</td>\n",
       "      <td>1</td>\n",
       "      <td>1</td>\n",
       "      <td>1</td>\n",
       "    </tr>\n",
       "    <tr>\n",
       "      <th>12378</th>\n",
       "      <td>60</td>\n",
       "      <td>1</td>\n",
       "      <td>4008.62</td>\n",
       "      <td>3</td>\n",
       "      <td>4</td>\n",
       "      <td>1</td>\n",
       "    </tr>\n",
       "  </tbody>\n",
       "</table>\n",
       "</div>"
      ],
      "text/plain": [
       "            Recency  Frequency  Monetary  R  F  M\n",
       "CustomerID                                       \n",
       "12347            60          3   1603.68  3  2  1\n",
       "12352             3          6   1897.81  1  1  1\n",
       "12360            43          2   1618.28  2  3  1\n",
       "12362             3          4   2098.24  1  1  1\n",
       "12378            60          1   4008.62  3  4  1"
      ]
     },
     "metadata": {},
     "output_type": "display_data"
    },
    {
     "name": "stdout",
     "output_type": "stream",
     "text": [
      "\n",
      "Total Customers in this segment: 791\n"
     ]
    }
   ],
   "source": [
    "# Find out who are the big spenders (xx1)\n",
    "big_spenders = rfm_df[(rfm_df['M'] == 1)]\n",
    "display(big_spenders.head())\n",
    "print('\\nTotal Customers in this segment:', len(big_spenders.index))"
   ]
  },
  {
   "cell_type": "markdown",
   "metadata": {},
   "source": [
    "***Suggested marketing strategies:***\n",
    "   * Recommend expensive products"
   ]
  },
  {
   "cell_type": "markdown",
   "metadata": {},
   "source": [
    "[Back to Table of Content](#TOC)"
   ]
  },
  {
   "cell_type": "markdown",
   "metadata": {},
   "source": [
    "***\n",
    "**4.4** *Almost Lost*<a id = '4.4'></a>\n",
    "***\n",
    "Almost lost are customers who haven't purchased for some time but have purchased frequently and spend the most. The last two criterias suggest that these customers are worth investing on."
   ]
  },
  {
   "cell_type": "code",
   "execution_count": 88,
   "metadata": {
    "ExecuteTime": {
     "end_time": "2019-06-30T03:04:54.150425Z",
     "start_time": "2019-06-30T03:04:54.126383Z"
    }
   },
   "outputs": [
    {
     "data": {
      "text/html": [
       "<div>\n",
       "<style>\n",
       "    .dataframe thead tr:only-child th {\n",
       "        text-align: right;\n",
       "    }\n",
       "\n",
       "    .dataframe thead th {\n",
       "        text-align: left;\n",
       "    }\n",
       "\n",
       "    .dataframe tbody tr th {\n",
       "        vertical-align: top;\n",
       "    }\n",
       "</style>\n",
       "<table border=\"1\" class=\"dataframe\">\n",
       "  <thead>\n",
       "    <tr style=\"text-align: right;\">\n",
       "      <th></th>\n",
       "      <th>Recency</th>\n",
       "      <th>Frequency</th>\n",
       "      <th>Monetary</th>\n",
       "      <th>R</th>\n",
       "      <th>F</th>\n",
       "      <th>M</th>\n",
       "    </tr>\n",
       "    <tr>\n",
       "      <th>CustomerID</th>\n",
       "      <th></th>\n",
       "      <th></th>\n",
       "      <th></th>\n",
       "      <th></th>\n",
       "      <th></th>\n",
       "      <th></th>\n",
       "    </tr>\n",
       "  </thead>\n",
       "  <tbody>\n",
       "    <tr>\n",
       "      <th>12407</th>\n",
       "      <td>65</td>\n",
       "      <td>4</td>\n",
       "      <td>1407.36</td>\n",
       "      <td>3</td>\n",
       "      <td>1</td>\n",
       "      <td>1</td>\n",
       "    </tr>\n",
       "    <tr>\n",
       "      <th>12428</th>\n",
       "      <td>51</td>\n",
       "      <td>8</td>\n",
       "      <td>7548.12</td>\n",
       "      <td>3</td>\n",
       "      <td>1</td>\n",
       "      <td>1</td>\n",
       "    </tr>\n",
       "    <tr>\n",
       "      <th>12431</th>\n",
       "      <td>50</td>\n",
       "      <td>6</td>\n",
       "      <td>2663.29</td>\n",
       "      <td>3</td>\n",
       "      <td>1</td>\n",
       "      <td>1</td>\n",
       "    </tr>\n",
       "    <tr>\n",
       "      <th>12481</th>\n",
       "      <td>110</td>\n",
       "      <td>5</td>\n",
       "      <td>2707.33</td>\n",
       "      <td>3</td>\n",
       "      <td>1</td>\n",
       "      <td>1</td>\n",
       "    </tr>\n",
       "    <tr>\n",
       "      <th>12524</th>\n",
       "      <td>93</td>\n",
       "      <td>4</td>\n",
       "      <td>2259.75</td>\n",
       "      <td>3</td>\n",
       "      <td>1</td>\n",
       "      <td>1</td>\n",
       "    </tr>\n",
       "  </tbody>\n",
       "</table>\n",
       "</div>"
      ],
      "text/plain": [
       "            Recency  Frequency  Monetary  R  F  M\n",
       "CustomerID                                       \n",
       "12407            65          4   1407.36  3  1  1\n",
       "12428            51          8   7548.12  3  1  1\n",
       "12431            50          6   2663.29  3  1  1\n",
       "12481           110          5   2707.33  3  1  1\n",
       "12524            93          4   2259.75  3  1  1"
      ]
     },
     "metadata": {},
     "output_type": "display_data"
    },
    {
     "name": "stdout",
     "output_type": "stream",
     "text": [
      "\n",
      "Total Customers in this segment: 65\n"
     ]
    }
   ],
   "source": [
    "# Find out who are the almost lost customers(311)\n",
    "almost_lost = rfm_df[(rfm_df['R'] == 3) & (rfm_df['F'] == 1) & (rfm_df['M'] == 1)]\n",
    "display(almost_lost.head())\n",
    "print('\\nTotal Customers in this segment:', len(almost_lost.index))"
   ]
  },
  {
   "cell_type": "markdown",
   "metadata": {},
   "source": [
    "***Suggested marketing strategies:***\n",
    "   * Aggresive price incentives"
   ]
  },
  {
   "cell_type": "markdown",
   "metadata": {},
   "source": [
    "[Back to Table of Content](#TOC)"
   ]
  },
  {
   "cell_type": "markdown",
   "metadata": {},
   "source": [
    "***\n",
    "**4.5** *Lost Customers*<a id = '4.5'></a>\n",
    "***\n",
    "Lost customers are customers who haven't purchased for a long time, but purchased frequently and spen the most."
   ]
  },
  {
   "cell_type": "code",
   "execution_count": 89,
   "metadata": {
    "ExecuteTime": {
     "end_time": "2019-06-30T03:14:01.870941Z",
     "start_time": "2019-06-30T03:14:01.839656Z"
    }
   },
   "outputs": [
    {
     "data": {
      "text/html": [
       "<div>\n",
       "<style>\n",
       "    .dataframe thead tr:only-child th {\n",
       "        text-align: right;\n",
       "    }\n",
       "\n",
       "    .dataframe thead th {\n",
       "        text-align: left;\n",
       "    }\n",
       "\n",
       "    .dataframe tbody tr th {\n",
       "        vertical-align: top;\n",
       "    }\n",
       "</style>\n",
       "<table border=\"1\" class=\"dataframe\">\n",
       "  <thead>\n",
       "    <tr style=\"text-align: right;\">\n",
       "      <th></th>\n",
       "      <th>Recency</th>\n",
       "      <th>Frequency</th>\n",
       "      <th>Monetary</th>\n",
       "      <th>R</th>\n",
       "      <th>F</th>\n",
       "      <th>M</th>\n",
       "    </tr>\n",
       "    <tr>\n",
       "      <th>CustomerID</th>\n",
       "      <th></th>\n",
       "      <th></th>\n",
       "      <th></th>\n",
       "      <th></th>\n",
       "      <th></th>\n",
       "      <th></th>\n",
       "    </tr>\n",
       "  </thead>\n",
       "  <tbody>\n",
       "    <tr>\n",
       "      <th>12613</th>\n",
       "      <td>128</td>\n",
       "      <td>4</td>\n",
       "      <td>1462.52</td>\n",
       "      <td>4</td>\n",
       "      <td>1</td>\n",
       "      <td>1</td>\n",
       "    </tr>\n",
       "    <tr>\n",
       "      <th>12779</th>\n",
       "      <td>120</td>\n",
       "      <td>4</td>\n",
       "      <td>1800.83</td>\n",
       "      <td>4</td>\n",
       "      <td>1</td>\n",
       "      <td>1</td>\n",
       "    </tr>\n",
       "    <tr>\n",
       "      <th>13015</th>\n",
       "      <td>128</td>\n",
       "      <td>4</td>\n",
       "      <td>1763.04</td>\n",
       "      <td>4</td>\n",
       "      <td>1</td>\n",
       "      <td>1</td>\n",
       "    </tr>\n",
       "    <tr>\n",
       "      <th>13883</th>\n",
       "      <td>149</td>\n",
       "      <td>4</td>\n",
       "      <td>1742.78</td>\n",
       "      <td>4</td>\n",
       "      <td>1</td>\n",
       "      <td>1</td>\n",
       "    </tr>\n",
       "    <tr>\n",
       "      <th>17504</th>\n",
       "      <td>137</td>\n",
       "      <td>7</td>\n",
       "      <td>2209.60</td>\n",
       "      <td>4</td>\n",
       "      <td>1</td>\n",
       "      <td>1</td>\n",
       "    </tr>\n",
       "  </tbody>\n",
       "</table>\n",
       "</div>"
      ],
      "text/plain": [
       "            Recency  Frequency  Monetary  R  F  M\n",
       "CustomerID                                       \n",
       "12613           128          4   1462.52  4  1  1\n",
       "12779           120          4   1800.83  4  1  1\n",
       "13015           128          4   1763.04  4  1  1\n",
       "13883           149          4   1742.78  4  1  1\n",
       "17504           137          7   2209.60  4  1  1"
      ]
     },
     "metadata": {},
     "output_type": "display_data"
    },
    {
     "name": "stdout",
     "output_type": "stream",
     "text": [
      "\n",
      "Total Customers in this segment: 6\n"
     ]
    }
   ],
   "source": [
    "# Find out who are the lost customers(311)\n",
    "lost = rfm_df[(rfm_df['R'] == 4) & (rfm_df['F'] == 1) & (rfm_df['M'] == 1)]\n",
    "display(lost.head())\n",
    "print('\\nTotal Customers in this segment:', len(lost.index))"
   ]
  },
  {
   "cell_type": "markdown",
   "metadata": {},
   "source": [
    "***Suggested marketing strategies:***\n",
    "   * Aggresive price incentives"
   ]
  },
  {
   "cell_type": "markdown",
   "metadata": {},
   "source": [
    "[Back to Table of Content](#TOC)"
   ]
  },
  {
   "cell_type": "markdown",
   "metadata": {},
   "source": [
    "***\n",
    "**4.6** *Lost Cheap Customers*<a id = '4.6'></a>\n",
    "***\n",
    "Lost cheap customers are customers who haven't purchased for a long time, only purchased a few items and spent very little. These three criteria means they are not worth much investment."
   ]
  },
  {
   "cell_type": "code",
   "execution_count": 90,
   "metadata": {
    "ExecuteTime": {
     "end_time": "2019-06-30T03:14:47.463039Z",
     "start_time": "2019-06-30T03:14:47.385603Z"
    }
   },
   "outputs": [
    {
     "data": {
      "text/html": [
       "<div>\n",
       "<style>\n",
       "    .dataframe thead tr:only-child th {\n",
       "        text-align: right;\n",
       "    }\n",
       "\n",
       "    .dataframe thead th {\n",
       "        text-align: left;\n",
       "    }\n",
       "\n",
       "    .dataframe tbody tr th {\n",
       "        vertical-align: top;\n",
       "    }\n",
       "</style>\n",
       "<table border=\"1\" class=\"dataframe\">\n",
       "  <thead>\n",
       "    <tr style=\"text-align: right;\">\n",
       "      <th></th>\n",
       "      <th>Recency</th>\n",
       "      <th>Frequency</th>\n",
       "      <th>Monetary</th>\n",
       "      <th>R</th>\n",
       "      <th>F</th>\n",
       "      <th>M</th>\n",
       "    </tr>\n",
       "    <tr>\n",
       "      <th>CustomerID</th>\n",
       "      <th></th>\n",
       "      <th></th>\n",
       "      <th></th>\n",
       "      <th></th>\n",
       "      <th></th>\n",
       "      <th></th>\n",
       "    </tr>\n",
       "  </thead>\n",
       "  <tbody>\n",
       "    <tr>\n",
       "      <th>12353</th>\n",
       "      <td>135</td>\n",
       "      <td>1</td>\n",
       "      <td>89.00</td>\n",
       "      <td>4</td>\n",
       "      <td>4</td>\n",
       "      <td>4</td>\n",
       "    </tr>\n",
       "    <tr>\n",
       "      <th>12413</th>\n",
       "      <td>167</td>\n",
       "      <td>1</td>\n",
       "      <td>84.65</td>\n",
       "      <td>4</td>\n",
       "      <td>4</td>\n",
       "      <td>4</td>\n",
       "    </tr>\n",
       "    <tr>\n",
       "      <th>12506</th>\n",
       "      <td>163</td>\n",
       "      <td>1</td>\n",
       "      <td>73.50</td>\n",
       "      <td>4</td>\n",
       "      <td>4</td>\n",
       "      <td>4</td>\n",
       "    </tr>\n",
       "    <tr>\n",
       "      <th>12573</th>\n",
       "      <td>158</td>\n",
       "      <td>1</td>\n",
       "      <td>160.54</td>\n",
       "      <td>4</td>\n",
       "      <td>4</td>\n",
       "      <td>4</td>\n",
       "    </tr>\n",
       "    <tr>\n",
       "      <th>12596</th>\n",
       "      <td>173</td>\n",
       "      <td>1</td>\n",
       "      <td>269.95</td>\n",
       "      <td>4</td>\n",
       "      <td>4</td>\n",
       "      <td>4</td>\n",
       "    </tr>\n",
       "  </tbody>\n",
       "</table>\n",
       "</div>"
      ],
      "text/plain": [
       "            Recency  Frequency  Monetary  R  F  M\n",
       "CustomerID                                       \n",
       "12353           135          1     89.00  4  4  4\n",
       "12413           167          1     84.65  4  4  4\n",
       "12506           163          1     73.50  4  4  4\n",
       "12573           158          1    160.54  4  4  4\n",
       "12596           173          1    269.95  4  4  4"
      ]
     },
     "metadata": {},
     "output_type": "display_data"
    },
    {
     "name": "stdout",
     "output_type": "stream",
     "text": [
      "\n",
      "Total Customers in this segment: 342\n"
     ]
    }
   ],
   "source": [
    "# Find out who are the lost cheap customers(444)\n",
    "lost_cheap = rfm_df[(rfm_df['R'] == 4) & (rfm_df['F'] == 4) & (rfm_df['M'] == 4)]\n",
    "display(lost_cheap.head())\n",
    "print('\\nTotal Customers in this segment:', len(lost_cheap.index))"
   ]
  },
  {
   "cell_type": "markdown",
   "metadata": {},
   "source": [
    "[Back to Table of Content](#TOC)"
   ]
  }
 ],
 "metadata": {
  "hide_input": false,
  "kernelspec": {
   "display_name": "Python 3",
   "language": "python",
   "name": "python3"
  },
  "language_info": {
   "codemirror_mode": {
    "name": "ipython",
    "version": 3
   },
   "file_extension": ".py",
   "mimetype": "text/x-python",
   "name": "python",
   "nbconvert_exporter": "python",
   "pygments_lexer": "ipython3",
   "version": "3.6.3"
  },
  "varInspector": {
   "cols": {
    "lenName": 16,
    "lenType": 16,
    "lenVar": "1000"
   },
   "kernels_config": {
    "python": {
     "delete_cmd_postfix": "",
     "delete_cmd_prefix": "del ",
     "library": "var_list.py",
     "varRefreshCmd": "print(var_dic_list())"
    },
    "r": {
     "delete_cmd_postfix": ") ",
     "delete_cmd_prefix": "rm(",
     "library": "var_list.r",
     "varRefreshCmd": "cat(var_dic_list()) "
    }
   },
   "types_to_exclude": [
    "module",
    "function",
    "builtin_function_or_method",
    "instance",
    "_Feature"
   ],
   "window_display": false
  }
 },
 "nbformat": 4,
 "nbformat_minor": 2
}
