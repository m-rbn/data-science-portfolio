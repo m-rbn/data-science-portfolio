{
 "cells": [
  {
   "cell_type": "markdown",
   "metadata": {
    "ExecuteTime": {
     "end_time": "2019-06-23T02:40:20.754809Z",
     "start_time": "2019-06-23T02:40:20.724192Z"
    }
   },
   "source": [
    "# **E-Commerce Recommendation System (Retailrocket)**\n",
    "\n",
    "*M. Ruben (June 2019)*\n",
    "***\n",
    "<div style=\"text-align: justify\">This notebook aims to create a recommendation system for an e-commerce dataset. The dataset was collected from a real-world e-commerce dataset. Using this dataset, three different models of recommendation system was developed using the Collaborative Filtering Technique.</div>\n",
    "***\n",
    "**Acknowledgement**: The original dataset can be found in [this link](https://www.kaggle.com/retailrocket/ecommerce-dataset). In addition, the collaborative filtering technique used in this notebook is based on the following [blog post](https://www.analyticsvidhya.com/blog/2018/06/comprehensive-guide-recommendation-engine-python/).\n",
    "***\n",
    "# Contents<a id = 'toc'></a>\n",
    "- **[1. Modules](#1)** \n",
    "- **[2. Data Exploration](#2)** \n",
    "- **[3. Collaborative Filtering based on Items Viewed](#3)** \n",
    "    * [**3.1** *Data Wrangling*](#3.1)  \n",
    "    * [**3.2** *Calculating similarity and event score*](#3.2)\n",
    "    * [**3.3** *Example of Top 5 recommended item based on result (user-user)*](#3.3)\n",
    "    * [**3.4** *Example of Top 5 recommended item based on result (item-item)*](#3.4)<br><br>  \n",
    "- **[4. Collaborative Filtering based on Items Bought](#4)**\n",
    "    * [**4.1** *Data Wrangling*](#4.1)  \n",
    "    * [**4.2** *Calculating similarity and event score*](#4.2)\n",
    "    * [**4.3** *Example of Top 5 recommended item based on result (user-user)*](#4.3)\n",
    "    * [**4.4** *Example of Top 5 recommended item based on result (item-item)*](#4.4)<br><br>  \n",
    "- **[5. Collaborative Filtering based on All Events](#5)**\n",
    "    * [**5.1** *Data Wrangling*](#5.1)  \n",
    "    * [**5.2** *Calculating similarity and event score*](#5.2)\n",
    "    * [**5.3** *Example of Top 5 recommended item based on result (user-user)*](#5.3)\n",
    "    * [**5.4** *Example of Top 5 recommended item based on result (item-item)*](#5.4)<br><br>  \n",
    "- **[6. Concluding Remarks](#6)**"
   ]
  },
  {
   "cell_type": "markdown",
   "metadata": {},
   "source": [
    "## <a id = '1'></a> 1. Modules"
   ]
  },
  {
   "cell_type": "markdown",
   "metadata": {},
   "source": [
    "The modules are loaded in this section. Modules used in this library are Pandas, NumPy and Scikit-Learn. "
   ]
  },
  {
   "cell_type": "code",
   "execution_count": 10,
   "metadata": {
    "ExecuteTime": {
     "end_time": "2019-06-24T01:20:42.191184Z",
     "start_time": "2019-06-24T01:20:42.175617Z"
    },
    "collapsed": true
   },
   "outputs": [],
   "source": [
    "import pandas as pd\n",
    "import numpy as np\n",
    "from sklearn.metrics.pairwise import pairwise_distances "
   ]
  },
  {
   "cell_type": "markdown",
   "metadata": {},
   "source": [
    "## <a id = '2'></a> 2. Data Exploration"
   ]
  },
  {
   "cell_type": "markdown",
   "metadata": {},
   "source": [
    "<div style=\"text-align: justify\">This section focuses on a brief process of exploring the Retailrocket dataset. There are altogether 4 CSV files included in the dataset: 'category_tree.csv', 'events.csv', 'item_properties_part1.csv' and 'item_properties_part2.csv'. The first file, 'category_tree.csv', only contains information pertaining the category of each of the item/product. The second file, 'events.csv', contains the record of each event that a visitor makes when interacting with the site. Finally, both 'item_properties_part1.csv' and 'item_properties_part2.csv' contains information regarding the properties of the items/products. The files 'category_tree.csv', 'item_properties_part1.csv' and 'item_properties_part2.csv' would be useful for creating a Content-Based Filtering recommendation system, meanwhile the file 'events.csv' can be used to develop a Collaborative Filtering recommendation system. The data in the files 'item_properties_part1.csv' and 'item_properties_part2.csv', however, were hashed due to isssues with confidentiality. It is hard to judge the context of the item properties due to this issue. Therefore, this notebook would only focus on creating a recommendation system using the Collaborative Filtering technique based on the data obtained from 'events.csv'.<br><br/>\n",
    "\n",
    "&nbsp;&nbsp;&nbsp;&nbsp;&nbsp;&nbsp;The cell code below shows the data exploration conducted before building the recommendation system. The data was first imported from the 'event.csv' file using pandas.read_csv(). Through pandas.DataFrame.head, the first 5 lines of the imported dataframe was then shown. There are five columns in the dataframe: 'timestamp', 'visitorid', 'event', 'itemid' and 'transactionid'. The 'timestamp' column refers to the time at which the event occurs and is in the format of unix timestamp. For the purpose of this notebook, the 'timestamp' information is neglegible. The 'visitorid' on the other hand shows the ID assigned to a particular visitor, which is a user of the website. The column 'event' shows the type of interaction, herein referred to as an event, a user conducted while using the website. There are three possible type of event: 'view', 'addtocart' and 'transaction'. A 'view' event is recorded into the system when a visitor views an item, meanwhile an 'addtocart' event is recorded if the visitor then adds the item to the cart. If the visitor then proceeds to complete the process of buying the item, a 'transaction' event is recorded. In the case of a 'transaction' event, an ID would be assigned to that specific event and is then stored in the 'transactionid' column. A transaction ID is only assigned when a 'transaction' event occurs, thereby accounting for the NaN values in the 'transactionid' column for non-transaction events.<br><br/>\n",
    "\n",
    "&nbsp;&nbsp;&nbsp;&nbsp;&nbsp;&nbsp;A total of 2,664,312 'view' events were recorded, of which 69,332 items were then added to the visitor's cart. However, only 22,457 transaction were recorded meaning only about 1/3 of the 'addtocart' events were converted into a 'transaction' event. In total, there are 1,407,580 unique visitors and 235,061 unique items in this dataframe. Based on these type of events, there 3 ways we can develop a model. The first is to develop the recommendation model based on only the 'view' events. Secondly, only use the 'transaction' events or finally, use all of the events by assigning score based on the type of event. The first method is shown in section 3, the second method can be found in section 4 and finally  section 5 shows the final method.\n",
    "</div> "
   ]
  },
  {
   "cell_type": "markdown",
   "metadata": {
    "ExecuteTime": {
     "end_time": "2019-06-24T00:55:54.670502Z",
     "start_time": "2019-06-24T00:55:54.654881Z"
    }
   },
   "source": [
    " [Back to table of content.](#toc)"
   ]
  },
  {
   "cell_type": "code",
   "execution_count": 11,
   "metadata": {
    "ExecuteTime": {
     "end_time": "2019-06-24T01:20:44.441185Z",
     "start_time": "2019-06-24T01:20:42.191184Z"
    }
   },
   "outputs": [
    {
     "name": "stdout",
     "output_type": "stream",
     "text": [
      "First five events :\n"
     ]
    },
    {
     "data": {
      "text/html": [
       "<div>\n",
       "<style>\n",
       "    .dataframe thead tr:only-child th {\n",
       "        text-align: right;\n",
       "    }\n",
       "\n",
       "    .dataframe thead th {\n",
       "        text-align: left;\n",
       "    }\n",
       "\n",
       "    .dataframe tbody tr th {\n",
       "        vertical-align: top;\n",
       "    }\n",
       "</style>\n",
       "<table border=\"1\" class=\"dataframe\">\n",
       "  <thead>\n",
       "    <tr style=\"text-align: right;\">\n",
       "      <th></th>\n",
       "      <th>timestamp</th>\n",
       "      <th>visitorid</th>\n",
       "      <th>event</th>\n",
       "      <th>itemid</th>\n",
       "      <th>transactionid</th>\n",
       "    </tr>\n",
       "  </thead>\n",
       "  <tbody>\n",
       "    <tr>\n",
       "      <th>0</th>\n",
       "      <td>1433221332117</td>\n",
       "      <td>257597</td>\n",
       "      <td>view</td>\n",
       "      <td>355908</td>\n",
       "      <td>NaN</td>\n",
       "    </tr>\n",
       "    <tr>\n",
       "      <th>1</th>\n",
       "      <td>1433224214164</td>\n",
       "      <td>992329</td>\n",
       "      <td>view</td>\n",
       "      <td>248676</td>\n",
       "      <td>NaN</td>\n",
       "    </tr>\n",
       "    <tr>\n",
       "      <th>2</th>\n",
       "      <td>1433221999827</td>\n",
       "      <td>111016</td>\n",
       "      <td>view</td>\n",
       "      <td>318965</td>\n",
       "      <td>NaN</td>\n",
       "    </tr>\n",
       "    <tr>\n",
       "      <th>3</th>\n",
       "      <td>1433221955914</td>\n",
       "      <td>483717</td>\n",
       "      <td>view</td>\n",
       "      <td>253185</td>\n",
       "      <td>NaN</td>\n",
       "    </tr>\n",
       "    <tr>\n",
       "      <th>4</th>\n",
       "      <td>1433221337106</td>\n",
       "      <td>951259</td>\n",
       "      <td>view</td>\n",
       "      <td>367447</td>\n",
       "      <td>NaN</td>\n",
       "    </tr>\n",
       "  </tbody>\n",
       "</table>\n",
       "</div>"
      ],
      "text/plain": [
       "       timestamp  visitorid event  itemid  transactionid\n",
       "0  1433221332117     257597  view  355908            NaN\n",
       "1  1433224214164     992329  view  248676            NaN\n",
       "2  1433221999827     111016  view  318965            NaN\n",
       "3  1433221955914     483717  view  253185            NaN\n",
       "4  1433221337106     951259  view  367447            NaN"
      ]
     },
     "metadata": {},
     "output_type": "display_data"
    },
    {
     "name": "stdout",
     "output_type": "stream",
     "text": [
      "\n",
      "Number of unique views, addtocarts and transactions :\n",
      "view           2664312\n",
      "addtocart        69332\n",
      "transaction      22457\n",
      "Name: event, dtype: int64\n",
      "\n",
      "Number of unique visitors :\n",
      "1407580\n",
      "\n",
      "Number of unique items :\n",
      "235061\n"
     ]
    }
   ],
   "source": [
    "# import event data\n",
    "events = pd.read_csv('CSV/events.csv')\n",
    "\n",
    "# Show the first five events\n",
    "print('First five events :')\n",
    "display(events.head())\n",
    "\n",
    "# Calculate number of unique view, addtocart and transcation \n",
    "print('\\nNumber of unique views, addtocarts and transactions :')\n",
    "print(events.event.value_counts())\n",
    "\n",
    "# Calculate number of unique visitors\n",
    "print('\\nNumber of unique visitors :')\n",
    "print(events.visitorid.nunique())\n",
    "\n",
    "# Calculate number of unique items\n",
    "print('\\nNumber of unique items :')\n",
    "print(events.itemid.nunique())"
   ]
  },
  {
   "cell_type": "markdown",
   "metadata": {},
   "source": [
    " [Back to table of content.](#toc)"
   ]
  },
  {
   "cell_type": "markdown",
   "metadata": {},
   "source": [
    "## <a id = '3'></a> 3. Collaborative Filtering based on Items Viewed"
   ]
  },
  {
   "cell_type": "markdown",
   "metadata": {},
   "source": [
    "<a id = '3.1'></a> \n",
    "***\n",
    "**3.1** *Data Wrangling* \n",
    "***\n",
    "<div style=\"text-align: justify\"> A new dataframe was created by extracting only the rows containing a 'view' event. The 'timestamp', 'event' and 'transactionid' column were dropped from the dataframe because the information were neglegible at that point. Due to technical constraints (memory error), the dataframe needed to be reduced in size. Therefore only the first 1000 unique visitors were considered for this model. After the dataframe was reduced in size, the total number of unique visitors and unique items in this reduced dataframe were then calculated. These two variables were then used to create an empty matrix which will be used as the visitor-item matrix. A for loop was then utilized to fill in the visitor-item matrix with the information of which items were viewed by each visitor.<br><br/>\n",
    "<div/>"
   ]
  },
  {
   "cell_type": "code",
   "execution_count": 12,
   "metadata": {
    "ExecuteTime": {
     "end_time": "2019-06-24T01:20:47.348406Z",
     "start_time": "2019-06-24T01:20:44.441185Z"
    },
    "collapsed": true
   },
   "outputs": [],
   "source": [
    "# Extract view events then drop timestamp, event and transactionid columns\n",
    "view_events = events[events['event'].str.contains('view')].drop(\n",
    "    ['timestamp', 'event', 'transactionid'], axis=1)\n",
    "\n",
    "# Extract view events of the first 1000 unique visitors\n",
    "view_visitor_id = view_events.visitorid.unique()\n",
    "fot_view_vis_id = view_visitor_id[:1000]\n",
    "\n",
    "# Extract view events of first one thousand visitors (fotv) from view_events dataframe\n",
    "view_events_fotv = view_events[view_events['visitorid'].isin(fot_view_vis_id)]\n",
    "\n",
    "# Count number of unique visitors and unique items\n",
    "view_items_list = view_events_fotv.itemid.unique()\n",
    "n_view_items = len(view_items_list)\n",
    "view_vis_list = view_events_fotv.visitorid.unique()\n",
    "n_view_vis = len(view_vis_list)\n",
    "\n",
    "# Create visitor_item matrix\n",
    "view_vi_matrix = np.zeros((n_view_vis, n_view_items))\n",
    "for row in view_events_fotv.itertuples(index = False):\n",
    "    \n",
    "    # Get the order of visitor among the unique visitors\n",
    "    id_vis = row[0]\n",
    "    m = np.where(view_vis_list == id_vis)\n",
    "    \n",
    "    # Get the order of item among the unique items\n",
    "    id_ite = row[1]\n",
    "    n = np.where(view_items_list == id_ite)\n",
    "    \n",
    "    # Assign events score(no view = 0, view = 1)\n",
    "    view_vi_matrix[m[0][0], n[0][0]] = 1"
   ]
  },
  {
   "cell_type": "markdown",
   "metadata": {},
   "source": [
    " [Back to table of content.](#toc)"
   ]
  },
  {
   "cell_type": "markdown",
   "metadata": {},
   "source": [
    "<a id = '3.2'></a> \n",
    "***\n",
    "**3.2** *Calculating similarity and event score *\n",
    "***\n",
    "<div style=\"text-align: justify\">There are two types of Collaborative Filtering that we can employ here, which is Item-Item Collaborative Filtering and User-User Collaborative Filtering. Both types are demonstrated in this notebook. Using the visitor-item matrix created in the previous section, the item-item and user-user similarity were calculated based on the cosine similarity. Afterwards, a function was defined to calculate the score for each item. The scores for both types of Collaborative Filtering were then predicted.<br><br/>\n",
    "<div/>"
   ]
  },
  {
   "cell_type": "code",
   "execution_count": 13,
   "metadata": {
    "ExecuteTime": {
     "end_time": "2019-06-24T01:20:52.940839Z",
     "start_time": "2019-06-24T01:20:47.348406Z"
    },
    "collapsed": true,
    "scrolled": true
   },
   "outputs": [],
   "source": [
    "# Calculate cosine similarity for user-user and item-item\n",
    "view_vis_similarity = pairwise_distances(view_vi_matrix, metric = 'cosine')\n",
    "view_item_similarity = pairwise_distances(view_vi_matrix.T, metric = 'cosine')\n",
    "\n",
    "# Defining function to calculate predicted recommendation ranking based on similarity\n",
    "def score(matrix, similarity, type = 'visitor'):\n",
    "    if type == 'visitor':\n",
    "        # Calculate mean user view for each item\n",
    "        mean_user_event = matrix.mean(axis = 0)\n",
    "        \n",
    "        # Calculate difference between event and mean event\n",
    "        event_diff = (matrix - mean_user_event[np.newaxis, :])\n",
    "        \n",
    "        # Predict score for ranking based on user-user\n",
    "        scr = mean_user_event[np.newaxis, :] + similarity.dot(event_diff) / np.array([np.abs(similarity.sum(axis=1))]).T\n",
    "        \n",
    "    elif type == 'item':\n",
    "        # Predict score for ranking based on item-item\n",
    "        scr = matrix.dot(similarity) / np.array([np.abs(similarity.sum(axis=1))])\n",
    "        \n",
    "    return scr\n",
    "\n",
    "# visitor-item predicted view score based on user-user\n",
    "vis_view_ranking = score(view_vi_matrix, view_vis_similarity, type = 'visitor')\n",
    "\n",
    "# visitor-item predicted view score based on item-item\n",
    "item_view_ranking = score(view_vi_matrix, view_item_similarity, type = 'item')"
   ]
  },
  {
   "cell_type": "markdown",
   "metadata": {},
   "source": [
    " [Back to table of content.](#toc)"
   ]
  },
  {
   "cell_type": "markdown",
   "metadata": {},
   "source": [
    "<a id = '3.3'></a> \n",
    "***\n",
    "**3.3** *Example of Top 5 recommended item based on result (user-user) *\n",
    "***\n",
    "<div style=\"text-align: justify\">This section shows an example result of the recommended item using User-User Collaborative Filtering based on the 'view' events.<br><br/>\n",
    "<div/>"
   ]
  },
  {
   "cell_type": "code",
   "execution_count": 14,
   "metadata": {
    "ExecuteTime": {
     "end_time": "2019-06-24T01:20:52.972082Z",
     "start_time": "2019-06-24T01:20:52.940839Z"
    },
    "scrolled": true
   },
   "outputs": [
    {
     "name": "stdout",
     "output_type": "stream",
     "text": [
      "Top 5 recommended item for the 1st user with visitorid = 257597 are itemid = 37029 , 315543 , 369447 , 12217 , 355994 . (user-user collaborative filtering)\n"
     ]
    }
   ],
   "source": [
    "# First visitor for example\n",
    "first_user = view_vis_list[0]\n",
    "\n",
    "# Top 5 recommended item for the 1st visitor (user-user)\n",
    "index_sort_view_vis = np.flip(np.argsort(vis_view_ranking[0, :]))\n",
    "itemid_score_sort_view_vis = np.zeros((len(index_sort_view_vis)), dtype=np.int)\n",
    "\n",
    "# Create array for recommendation score\n",
    "for m in range(len(index_sort_view_vis)):\n",
    "    \n",
    "    # Returns the index of the item in the original unique item list\n",
    "    index = index_sort_view_vis[m]\n",
    "    \n",
    "    # Returns the itemid according to the index\n",
    "    itemid_score_sort_view_vis[m] = view_items_list[index]\n",
    "    \n",
    "# Print out top 5 recommended item for the first user\n",
    "print('Top 5 recommended item for the 1st user with visitorid =', first_user, 'are itemid =', \n",
    "     itemid_score_sort_view_vis[0], ',', itemid_score_sort_view_vis[1], ',',\n",
    "     itemid_score_sort_view_vis[2],',', itemid_score_sort_view_vis[3], \n",
    "     ',',itemid_score_sort_view_vis[4], '. (user-user collaborative filtering)')"
   ]
  },
  {
   "cell_type": "markdown",
   "metadata": {},
   "source": [
    " [Back to table of content.](#toc)"
   ]
  },
  {
   "cell_type": "markdown",
   "metadata": {},
   "source": [
    "<a id = '3.4'></a> \n",
    "***\n",
    "**3.4** *Example of Top 5 recommended item based on result (item-item) *\n",
    "***\n",
    "<div style=\"text-align: justify\">This section shows an example result of the recommended item using Item-Item Collaborative Filtering based on the 'view' events.<br><br/>\n",
    "<div/>"
   ]
  },
  {
   "cell_type": "code",
   "execution_count": 15,
   "metadata": {
    "ExecuteTime": {
     "end_time": "2019-06-24T01:20:53.144572Z",
     "start_time": "2019-06-24T01:20:52.972082Z"
    }
   },
   "outputs": [
    {
     "name": "stdout",
     "output_type": "stream",
     "text": [
      "Top 5 recommended item for the 1st user with visitorid = 257597 are itemid = 186702 , 143293 , 60980 , 185115 , 119736 . (item-item collaborative filtering)\n"
     ]
    }
   ],
   "source": [
    "# Top 5 recommended item for the 1st visitor (item_item)\n",
    "index_sort_view_item = np.flip(np.argsort(item_view_ranking[0, :]))\n",
    "itemid_score_sort_view_item = np.zeros((len(index_sort_view_item)), dtype=np.int)\n",
    "\n",
    "# Create array for recommendation score\n",
    "for m in range(len(index_sort_view_item)):\n",
    "    \n",
    "    # Returns the index of the item in the original unique item list\n",
    "    index = index_sort_view_item[m]\n",
    "    \n",
    "    # Returns the itemid according to the index\n",
    "    itemid_score_sort_view_item[m] = view_items_list[index]\n",
    "    \n",
    "# Print out top 5 recommended item for the first user\n",
    "print('Top 5 recommended item for the 1st user with visitorid =', first_user, 'are itemid =', \n",
    "     itemid_score_sort_view_item[0], ',', itemid_score_sort_view_item[1], ',',\n",
    "     itemid_score_sort_view_item[2],',', itemid_score_sort_view_item[3], \n",
    "     ',',itemid_score_sort_view_item[4], '. (item-item collaborative filtering)')"
   ]
  },
  {
   "cell_type": "markdown",
   "metadata": {
    "ExecuteTime": {
     "end_time": "2019-06-24T00:57:35.649885Z",
     "start_time": "2019-06-24T00:57:35.619334Z"
    }
   },
   "source": [
    " [Back to table of content.](#toc)"
   ]
  },
  {
   "cell_type": "markdown",
   "metadata": {},
   "source": [
    "## <a id = '4'></a> 4. Collaborative Filtering based on Items Bought"
   ]
  },
  {
   "cell_type": "markdown",
   "metadata": {},
   "source": [
    "<a id = '4.1'></a> \n",
    "***\n",
    "**4.1** *Data Wrangling* \n",
    "***\n",
    "<div style=\"text-align: justify\"> A new dataframe was created by extracting only the rows containing a 'transaction' event. The 'timestamp', 'event' and 'transactionid' column were dropped from the dataframe because the information were neglegible at that point. Due to technical constraints (memory error), the dataframe needed to be reduced in size. Therefore only the first 1000 unique visitors were considered for this model. After the dataframe was reduced in size, the total number of unique visitors and unique items in this reduced dataframe were then calculated. These two variables were then used to create an empty matrix which will be used as the visitor-item matrix. A for loop was then utilized to fill in the visitor-item matrix with the information of which items were viewed by each visitor.<br><br/>\n",
    "<div/>"
   ]
  },
  {
   "cell_type": "code",
   "execution_count": 16,
   "metadata": {
    "ExecuteTime": {
     "end_time": "2019-06-24T01:20:54.739303Z",
     "start_time": "2019-06-24T01:20:53.144572Z"
    },
    "collapsed": true
   },
   "outputs": [],
   "source": [
    "# Extract buy events then drop timestamp, event and transactionid columns\n",
    "buy_events = events[events['event'].str.contains('transaction')].drop(\n",
    "    ['timestamp', 'event', 'transactionid'], axis=1)\n",
    "\n",
    "# Extract buy events of the first 1000 unique visitors\n",
    "buy_visitor_id = buy_events.visitorid.unique()\n",
    "fot_buy_vis_id = buy_visitor_id[:1000]\n",
    "\n",
    "# Extract buy events of first one thousand visitors (fotv) from buy_events dataframe\n",
    "buy_events_fotv = buy_events[buy_events['visitorid'].isin(fot_buy_vis_id)]\n",
    "\n",
    "# Count number of unique visitors and unique items\n",
    "buy_items_list = buy_events_fotv.itemid.unique()\n",
    "n_buy_items = len(buy_items_list)\n",
    "buy_vis_list = buy_events_fotv.visitorid.unique()\n",
    "n_buy_vis = len(buy_vis_list)\n",
    "\n",
    "# Create visitor_item matrix\n",
    "buy_vi_matrix = np.zeros((n_buy_vis, n_buy_items))\n",
    "for row in buy_events_fotv.itertuples(index = False):\n",
    "    \n",
    "    # Get the order of visitor among the unique visitors\n",
    "    id_vis = row[0]\n",
    "    m = np.where(buy_vis_list == id_vis)\n",
    "    \n",
    "    # Get the order of item among the unique items\n",
    "    id_ite = row[1]\n",
    "    n = np.where(buy_items_list == id_ite)\n",
    "    \n",
    "    # Assign events score(no transaction = 0, transaction = 1)\n",
    "    buy_vi_matrix[m[0][0], n[0][0]] = 1"
   ]
  },
  {
   "cell_type": "markdown",
   "metadata": {},
   "source": [
    " [Back to table of content.](#toc)"
   ]
  },
  {
   "cell_type": "markdown",
   "metadata": {
    "ExecuteTime": {
     "end_time": "2019-06-23T09:22:29.093557Z",
     "start_time": "2019-06-23T09:22:29.062313Z"
    }
   },
   "source": [
    "<a id = '4.2'></a> \n",
    "***\n",
    "**4.2** *Calculating similarity and event score *\n",
    "***\n",
    "<div style=\"text-align: justify\">There are two types of Collaborative Filtering that we can employ here, which is Item-Item Collaborative Filtering and User-User Collaborative Filtering. Both types are demonstrated in this notebook. Using the visitor-item matrix created in the previous section, the item-item and user-user similarity were calculated based on the cosine similarity. The function defined in section 3.2 was again used to calculate the score for each item. The scores for both types of Collaborative Filtering were then predicted.<br><br/>\n",
    "<div/>"
   ]
  },
  {
   "cell_type": "code",
   "execution_count": 17,
   "metadata": {
    "ExecuteTime": {
     "end_time": "2019-06-24T01:20:55.503459Z",
     "start_time": "2019-06-24T01:20:54.739303Z"
    }
   },
   "outputs": [],
   "source": [
    "# Calculate cosine similarity for user-user and item-item\n",
    "buy_vis_similarity = pairwise_distances(buy_vi_matrix, metric = 'cosine')\n",
    "buy_item_similarity = pairwise_distances(buy_vi_matrix.T, metric = 'cosine')\n",
    "\n",
    "# visitor-item predicted view score based on user-user\n",
    "vis_buy_ranking = score(buy_vi_matrix, buy_vis_similarity, type = 'visitor')\n",
    "\n",
    "# visitor-item predicted view score based on item-item\n",
    "item_buy_ranking = score(buy_vi_matrix, buy_item_similarity, type = 'item')"
   ]
  },
  {
   "cell_type": "markdown",
   "metadata": {
    "ExecuteTime": {
     "end_time": "2019-06-24T00:58:05.290619Z",
     "start_time": "2019-06-24T00:58:05.284634Z"
    }
   },
   "source": [
    " [Back to table of content.](#toc)"
   ]
  },
  {
   "cell_type": "markdown",
   "metadata": {},
   "source": [
    "<a id = '4.3'></a> \n",
    "***\n",
    "**4.3** *Example of Top 5 recommended item based on result (user-user) *\n",
    "***\n",
    "<div style=\"text-align: justify\">This section shows an example result of the recommended item using User-User Collaborative Filtering based on the 'transaction' events.<br><br/>\n",
    "<div/>"
   ]
  },
  {
   "cell_type": "code",
   "execution_count": 18,
   "metadata": {
    "ExecuteTime": {
     "end_time": "2019-06-24T01:20:55.519074Z",
     "start_time": "2019-06-24T01:20:55.503459Z"
    }
   },
   "outputs": [
    {
     "name": "stdout",
     "output_type": "stream",
     "text": [
      "Top 5 recommended item for the 1st user with visitorid = 599528 are itemid = 119736 , 420960 , 460553 , 309778 , 7943 . (user-user collaborative filtering)\n"
     ]
    }
   ],
   "source": [
    "# First visitor for example\n",
    "first_user = buy_vis_list[0]\n",
    "\n",
    "# Top 5 recommended item for the 1st visitor (user-user)\n",
    "index_sort_buy_vis = np.flip(np.argsort(vis_buy_ranking[0, :]))\n",
    "itemid_score_sort_buy_vis = np.zeros((len(index_sort_buy_vis)), dtype=np.int)\n",
    "\n",
    "# Create array for recommendation score\n",
    "for m in range(len(index_sort_buy_vis)):\n",
    "    \n",
    "    # Returns the index of the item in the original unique item list\n",
    "    index = index_sort_buy_vis[m]\n",
    "    \n",
    "    # Returns the itemid according to the index\n",
    "    itemid_score_sort_buy_vis[m] = buy_items_list[index]\n",
    "    \n",
    "# Print out top 5 recommended item for the first user\n",
    "print('Top 5 recommended item for the 1st user with visitorid =', first_user, 'are itemid =', \n",
    "     itemid_score_sort_buy_vis[0], ',', itemid_score_sort_buy_vis[1], ',',\n",
    "     itemid_score_sort_buy_vis[2],',', itemid_score_sort_buy_vis[3], \n",
    "     ',',itemid_score_sort_buy_vis[4], '. (user-user collaborative filtering)')"
   ]
  },
  {
   "cell_type": "markdown",
   "metadata": {},
   "source": [
    " [Back to table of content.](#toc)"
   ]
  },
  {
   "cell_type": "markdown",
   "metadata": {},
   "source": [
    "<a id = '4.4'></a> \n",
    "***\n",
    "**4.4** *Example of Top 5 recommended item based on result (item-item) *\n",
    "***\n",
    "<div style=\"text-align: justify\">This section shows an example result of the recommended item using Item-Item Collaborative Filtering based on the 'transaction' events.<br><br/>\n",
    "<div/>"
   ]
  },
  {
   "cell_type": "code",
   "execution_count": 19,
   "metadata": {
    "ExecuteTime": {
     "end_time": "2019-06-24T01:20:55.653761Z",
     "start_time": "2019-06-24T01:20:55.519074Z"
    },
    "scrolled": true
   },
   "outputs": [
    {
     "name": "stdout",
     "output_type": "stream",
     "text": [
      "Top 5 recommended item for the 1st user with visitorid = 599528 are itemid = 360825 , 450565 , 360831 , 361152 , 459354 . (item-item collaborative filtering)\n"
     ]
    }
   ],
   "source": [
    "# Top 5 recommended item for the 1st visitor (item_item)\n",
    "index_sort_buy_item = np.flip(np.argsort(item_buy_ranking[0, :]))\n",
    "itemid_score_sort_buy_item = np.zeros((len(index_sort_buy_item)), dtype=np.int)\n",
    "\n",
    "# Create array for recommendation score\n",
    "for m in range(len(index_sort_buy_item)):\n",
    "    \n",
    "    # Returns the index of the item in the original unique item list\n",
    "    index = index_sort_buy_item[m]\n",
    "    \n",
    "    # Returns the itemid according to the index\n",
    "    itemid_score_sort_buy_item[m] = buy_items_list[index]\n",
    "    \n",
    "# Print out top 5 recommended item for the first user\n",
    "print('Top 5 recommended item for the 1st user with visitorid =', first_user, 'are itemid =', \n",
    "     itemid_score_sort_buy_item[0], ',', itemid_score_sort_buy_item[1], ',',\n",
    "     itemid_score_sort_buy_item[2],',', itemid_score_sort_buy_item[3], \n",
    "     ',',itemid_score_sort_buy_item[4], '. (item-item collaborative filtering)')"
   ]
  },
  {
   "cell_type": "markdown",
   "metadata": {},
   "source": [
    " [Back to table of content.](#toc)"
   ]
  },
  {
   "cell_type": "markdown",
   "metadata": {},
   "source": [
    "## <a id = '5'></a> 5. Collaborative Filtering based on All Events"
   ]
  },
  {
   "cell_type": "markdown",
   "metadata": {},
   "source": [
    "<a id = '5.1'></a> \n",
    "***\n",
    "**5.1** *Data Wrangling* \n",
    "***\n",
    "<div style=\"text-align: justify\"> The 'timestamp', 'event' and 'transactionid' column were dropped from the newly created dataframe because the information were neglegible at that point. Due to technical constraints (memory error), the dataframe needed to be reduced in size. Therefore only the first 1000 unique visitors were considered for this model. After the dataframe was reduced in size, the total number of unique visitors and unique items in this reduced dataframe were then calculated. These two variables were then used to create an empty matrix which will be used as the visitor-item matrix. A for loop was then utilized to fill in the visitor-item matrix with the information of which items were viewed by each visitor.<br><br/>\n",
    "<div/>"
   ]
  },
  {
   "cell_type": "code",
   "execution_count": 20,
   "metadata": {
    "ExecuteTime": {
     "end_time": "2019-06-24T01:20:56.879098Z",
     "start_time": "2019-06-24T01:20:55.653761Z"
    }
   },
   "outputs": [],
   "source": [
    "# Drop timestamp, event and transactionid columns\n",
    "all_events = events.drop(\n",
    "    ['timestamp', 'transactionid'], axis=1)\n",
    "\n",
    "# Extract all events of the first 1000 unique visitors\n",
    "all_visitor_id = all_events.visitorid.unique()\n",
    "fot_all_vis_id = all_visitor_id[:1000]\n",
    "\n",
    "# Extract all events of first one thousand visitors (fotv) from all_events dataframe\n",
    "all_events_fotv = all_events[all_events['visitorid'].isin(fot_all_vis_id)]\n",
    "\n",
    "# Count number of unique visitors and unique items\n",
    "all_items_list = all_events_fotv.itemid.unique()\n",
    "n_all_items = len(all_items_list)\n",
    "all_vis_list = all_events_fotv.visitorid.unique()\n",
    "n_all_vis = len(all_vis_list)\n",
    "\n",
    "# Create visitor_item matrix\n",
    "all_vi_matrix = np.zeros((n_all_vis, n_all_items))\n",
    "for row in all_events_fotv.itertuples(index = False):\n",
    "    \n",
    "    # Get the order of visitor among the unique visitors\n",
    "    id_vis = row[0]\n",
    "    m = np.where(all_vis_list == id_vis)\n",
    "    \n",
    "    # Get the order of item among the unique items\n",
    "    id_ite = row[2]\n",
    "    n = np.where(all_items_list == id_ite)\n",
    "    \n",
    "    if row[1] == 'view':\n",
    "        # Assign events score(view = 1, addtocart = 2, transaction = 3)\n",
    "        all_vi_matrix[m[0][0], n[0][0]] = 1\n",
    "        \n",
    "    elif row[1] == 'addtocart':\n",
    "        # Assign events score(view = 1, addtocart = 2, transaction = 3)\n",
    "        all_vi_matrix[m[0][0], n[0][0]] = 2\n",
    "\n",
    "    elif row[1] == 'transaction':\n",
    "        # Assign events score(view = 1, addtocart = 2, transaction = 3)\n",
    "        all_vi_matrix[m[0][0], n[0][0]] = 3\n"
   ]
  },
  {
   "cell_type": "markdown",
   "metadata": {},
   "source": [
    " [Back to table of content.](#toc)"
   ]
  },
  {
   "cell_type": "markdown",
   "metadata": {},
   "source": [
    "<a id = '5.2'></a> \n",
    "***\n",
    "**5.2** *Calculating similarity and event score *\n",
    "***\n",
    "<div style=\"text-align: justify\">There are two types of Collaborative Filtering that we can employ here, which is Item-Item Collaborative Filtering and User-User Collaborative Filtering. Both types are demonstrated in this notebook. Using the visitor-item matrix created in the previous section, the item-item and user-user similarity were calculated based on the cosine similarity. The function defined in section 3.2 was again used to calculate the score for each item. The scores for both types of Collaborative Filtering were then predicted.<br><br/>\n",
    "<div/>"
   ]
  },
  {
   "cell_type": "code",
   "execution_count": 21,
   "metadata": {
    "ExecuteTime": {
     "end_time": "2019-06-24T01:21:03.378262Z",
     "start_time": "2019-06-24T01:20:56.879098Z"
    },
    "collapsed": true
   },
   "outputs": [],
   "source": [
    "# Calculate cosine similarity for user-user and item-item\n",
    "all_vis_similarity = pairwise_distances(all_vi_matrix, metric = 'cosine')\n",
    "all_item_similarity = pairwise_distances(all_vi_matrix.T, metric = 'cosine')\n",
    "\n",
    "# visitor-item predicted view score based on user-user\n",
    "vis_all_ranking = score(all_vi_matrix, all_vis_similarity, type = 'visitor')\n",
    "\n",
    "# visitor-item predicted view score based on item-item\n",
    "item_all_ranking = score(all_vi_matrix, all_item_similarity, type = 'item')"
   ]
  },
  {
   "cell_type": "markdown",
   "metadata": {},
   "source": [
    " [Back to table of content.](#toc)"
   ]
  },
  {
   "cell_type": "markdown",
   "metadata": {},
   "source": [
    "<a id = '5.3'></a> \n",
    "***\n",
    "**5.3** *Example of Top 5 recommended item based on result (user-user) *\n",
    "***\n",
    "<div style=\"text-align: justify\">This section shows an example result of the recommended item using User-User Collaborative Filtering based on all type of events.<br><br/>\n",
    "<div/>"
   ]
  },
  {
   "cell_type": "code",
   "execution_count": 22,
   "metadata": {
    "ExecuteTime": {
     "end_time": "2019-06-24T01:21:03.409565Z",
     "start_time": "2019-06-24T01:21:03.378262Z"
    }
   },
   "outputs": [
    {
     "name": "stdout",
     "output_type": "stream",
     "text": [
      "Top 5 recommended item for the 1st user with visitorid = 257597 are itemid = 257040 , 37029 , 119736 , 369447 , 12217 . (user-user collaborative filtering)\n"
     ]
    }
   ],
   "source": [
    "# First visitor for example\n",
    "first_user = all_vis_list[0]\n",
    "\n",
    "# Top 5 recommended item for the 1st visitor (user-user)\n",
    "index_sort_all_vis = np.flip(np.argsort(vis_all_ranking[0, :]))\n",
    "itemid_score_sort_all_vis = np.zeros((len(index_sort_all_vis)), dtype=np.int)\n",
    "\n",
    "# Create array for recommendation score\n",
    "for m in range(len(index_sort_all_vis)):\n",
    "    \n",
    "    # Returns the index of the item in the original unique item list\n",
    "    index = index_sort_all_vis[m]\n",
    "    \n",
    "    # Returns the itemid according to the index\n",
    "    itemid_score_sort_all_vis[m] = all_items_list[index]\n",
    "    \n",
    "# Print out top 5 recommended item for the first user\n",
    "print('Top 5 recommended item for the 1st user with visitorid =', first_user, 'are itemid =', \n",
    "     itemid_score_sort_all_vis[0], ',', itemid_score_sort_all_vis[1], ',',\n",
    "     itemid_score_sort_all_vis[2],',', itemid_score_sort_all_vis[3], \n",
    "     ',',itemid_score_sort_all_vis[4], '. (user-user collaborative filtering)')"
   ]
  },
  {
   "cell_type": "markdown",
   "metadata": {},
   "source": [
    " [Back to table of content.](#toc)"
   ]
  },
  {
   "cell_type": "markdown",
   "metadata": {},
   "source": [
    "<a id = '5.4'></a> \n",
    "***\n",
    "**5.4** *Example of Top 5 recommended item based on result (item-item) *\n",
    "***\n",
    "<div style=\"text-align: justify\">This section shows an example result of the recommended item using Item-Item Collaborative Filtering based on all type of events.<br><br/>\n",
    "<div/>"
   ]
  },
  {
   "cell_type": "code",
   "execution_count": 23,
   "metadata": {
    "ExecuteTime": {
     "end_time": "2019-06-24T01:21:03.565755Z",
     "start_time": "2019-06-24T01:21:03.409565Z"
    }
   },
   "outputs": [
    {
     "name": "stdout",
     "output_type": "stream",
     "text": [
      "Top 5 recommended item for the 1st user with visitorid = 257597 are itemid = 119736 , 301721 , 186702 , 439963 , 123548 . (item-item collaborative filtering)\n"
     ]
    }
   ],
   "source": [
    "# Top 5 recommended item for the 1st visitor (item_item)\n",
    "index_sort_all_item = np.flip(np.argsort(item_all_ranking[0, :]))\n",
    "itemid_score_sort_all_item = np.zeros((len(index_sort_all_item)), dtype=np.int)\n",
    "\n",
    "# Create array for recommendation score\n",
    "for m in range(len(index_sort_all_item)):\n",
    "    \n",
    "    # Returns the index of the item in the original unique item list\n",
    "    index = index_sort_all_item[m]\n",
    "    \n",
    "    # Returns the itemid according to the index\n",
    "    itemid_score_sort_all_item[m] = all_items_list[index]\n",
    "    \n",
    "# Print out top 5 recommended item for the first user\n",
    "print('Top 5 recommended item for the 1st user with visitorid =', first_user, 'are itemid =', \n",
    "     itemid_score_sort_all_item[0], ',', itemid_score_sort_all_item[1], ',',\n",
    "     itemid_score_sort_all_item[2],',', itemid_score_sort_all_item[3], \n",
    "     ',',itemid_score_sort_all_item[4], '. (item-item collaborative filtering)')"
   ]
  },
  {
   "cell_type": "markdown",
   "metadata": {},
   "source": [
    " [Back to table of content.](#toc)"
   ]
  },
  {
   "cell_type": "markdown",
   "metadata": {},
   "source": [
    "# <a id = '6'></a> 6. Concluding Remarks\n",
    "\n",
    "<div style=\"text-align: justify\">This notebook documents an attempt to develop a recommendation system based on the Retailrocket dataset. Based on the available data, a Collaborative Filtering technique was chosen for the recommendation system. There are two types of Collaborative Filtering, one based on similarity between user who clicked an item (User-User Collaborative Filtering) and one based on similarity between items clicked by a user (Item-Item Collaborative Filtering). Both are presented in this notebook. Due to a technical issue (memory error) the data had to be downsampled, however the general approach remains the same. In conclusion, Item-Item Collaborative Filtering was less computationally intensive compared to User-User Collaborative Filtering. If resource allocation is a factor, then the Item-Item Collaborative Filtering is the recommended approach.\n",
    "<div/>"
   ]
  },
  {
   "cell_type": "markdown",
   "metadata": {},
   "source": [
    " [Back to table of content.](#toc)"
   ]
  }
 ],
 "metadata": {
  "hide_input": false,
  "kernelspec": {
   "display_name": "Python 3",
   "language": "python",
   "name": "python3"
  },
  "language_info": {
   "codemirror_mode": {
    "name": "ipython",
    "version": 3
   },
   "file_extension": ".py",
   "mimetype": "text/x-python",
   "name": "python",
   "nbconvert_exporter": "python",
   "pygments_lexer": "ipython3",
   "version": "3.6.3"
  },
  "varInspector": {
   "cols": {
    "lenName": 16,
    "lenType": 16,
    "lenVar": "1000"
   },
   "kernels_config": {
    "python": {
     "delete_cmd_postfix": "",
     "delete_cmd_prefix": "del ",
     "library": "var_list.py",
     "varRefreshCmd": "print(var_dic_list())"
    },
    "r": {
     "delete_cmd_postfix": ") ",
     "delete_cmd_prefix": "rm(",
     "library": "var_list.r",
     "varRefreshCmd": "cat(var_dic_list()) "
    }
   },
   "oldHeight": 122.4,
   "position": {
    "height": "144px",
    "left": "1166px",
    "right": "20px",
    "top": "120px",
    "width": "350px"
   },
   "types_to_exclude": [
    "module",
    "function",
    "builtin_function_or_method",
    "instance",
    "_Feature"
   ],
   "varInspector_section_display": "block",
   "window_display": false
  }
 },
 "nbformat": 4,
 "nbformat_minor": 2
}
